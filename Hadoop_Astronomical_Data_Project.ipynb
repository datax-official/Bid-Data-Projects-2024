{
  "nbformat": 4,
  "nbformat_minor": 0,
  "metadata": {
    "colab": {
      "provenance": []
    },
    "kernelspec": {
      "name": "python3",
      "display_name": "Python 3"
    },
    "language_info": {
      "name": "python"
    }
  },
  "cells": [
    {
      "cell_type": "code",
      "execution_count": 1,
      "metadata": {
        "colab": {
          "base_uri": "https://localhost:8080/"
        },
        "id": "71Ecoqu66Is4",
        "outputId": "f7e2f5e1-a082-4ed4-deb9-d38aab484293"
      },
      "outputs": [
        {
          "output_type": "stream",
          "name": "stdout",
          "text": [
            "Get:1 https://cloud.r-project.org/bin/linux/ubuntu jammy-cran40/ InRelease [3,626 B]\n",
            "Get:2 https://developer.download.nvidia.com/compute/cuda/repos/ubuntu2204/x86_64  InRelease [1,581 B]\n",
            "Hit:3 http://archive.ubuntu.com/ubuntu jammy InRelease\n",
            "Get:4 http://security.ubuntu.com/ubuntu jammy-security InRelease [129 kB]\n",
            "Get:5 https://r2u.stat.illinois.edu/ubuntu jammy InRelease [6,555 B]\n",
            "Get:6 http://archive.ubuntu.com/ubuntu jammy-updates InRelease [128 kB]\n",
            "Get:7 https://developer.download.nvidia.com/compute/cuda/repos/ubuntu2204/x86_64  Packages [1,188 kB]\n",
            "Get:8 http://archive.ubuntu.com/ubuntu jammy-backports InRelease [127 kB]\n",
            "Hit:9 https://ppa.launchpadcontent.net/deadsnakes/ppa/ubuntu jammy InRelease\n",
            "Get:10 https://r2u.stat.illinois.edu/ubuntu jammy/main amd64 Packages [2,626 kB]\n",
            "Hit:11 https://ppa.launchpadcontent.net/graphics-drivers/ppa/ubuntu jammy InRelease\n",
            "Get:12 http://archive.ubuntu.com/ubuntu jammy-updates/main amd64 Packages [2,738 kB]\n",
            "Hit:13 https://ppa.launchpadcontent.net/ubuntugis/ppa/ubuntu jammy InRelease\n",
            "Get:14 https://r2u.stat.illinois.edu/ubuntu jammy/main all Packages [8,527 kB]\n",
            "Get:15 http://archive.ubuntu.com/ubuntu jammy-updates/universe amd64 Packages [1,513 kB]\n",
            "Get:16 http://security.ubuntu.com/ubuntu jammy-security/main amd64 Packages [2,454 kB]\n",
            "Get:17 http://security.ubuntu.com/ubuntu jammy-security/universe amd64 Packages [1,224 kB]\n",
            "Fetched 20.7 MB in 3s (7,412 kB/s)\n",
            "Reading package lists... Done\n",
            "W: Skipping acquire of configured file 'main/source/Sources' as repository 'https://r2u.stat.illinois.edu/ubuntu jammy InRelease' does not seem to provide it (sources.list entry misspelt?)\n"
          ]
        }
      ],
      "source": [
        "!apt-get update\n",
        "!apt-get install openjdk-8-jdk-headless -qq > /dev/null"
      ]
    },
    {
      "cell_type": "code",
      "source": [
        "!java -version"
      ],
      "metadata": {
        "colab": {
          "base_uri": "https://localhost:8080/"
        },
        "id": "WwthXpXN6bda",
        "outputId": "63cbc7b8-cc05-4e07-e8da-67ddad658944"
      },
      "execution_count": 2,
      "outputs": [
        {
          "output_type": "stream",
          "name": "stdout",
          "text": [
            "openjdk version \"11.0.25\" 2024-10-15\n",
            "OpenJDK Runtime Environment (build 11.0.25+9-post-Ubuntu-1ubuntu122.04)\n",
            "OpenJDK 64-Bit Server VM (build 11.0.25+9-post-Ubuntu-1ubuntu122.04, mixed mode, sharing)\n"
          ]
        }
      ]
    },
    {
      "cell_type": "code",
      "source": [
        "!wget https://downloads.apache.org/hadoop/common/hadoop-3.3.5/hadoop-3.3.5.tar.gz"
      ],
      "metadata": {
        "colab": {
          "base_uri": "https://localhost:8080/"
        },
        "id": "FnOPvBEt6m8t",
        "outputId": "d6755da1-0c8a-45c0-d06e-a04aafd87130"
      },
      "execution_count": 3,
      "outputs": [
        {
          "output_type": "stream",
          "name": "stdout",
          "text": [
            "--2024-12-03 19:06:23--  https://downloads.apache.org/hadoop/common/hadoop-3.3.5/hadoop-3.3.5.tar.gz\n",
            "Resolving downloads.apache.org (downloads.apache.org)... 88.99.208.237, 135.181.214.104, 2a01:4f8:10a:39da::2, ...\n",
            "Connecting to downloads.apache.org (downloads.apache.org)|88.99.208.237|:443... connected.\n",
            "HTTP request sent, awaiting response... 200 OK\n",
            "Length: 706533213 (674M) [application/x-gzip]\n",
            "Saving to: ‘hadoop-3.3.5.tar.gz’\n",
            "\n",
            "hadoop-3.3.5.tar.gz 100%[===================>] 673.80M  23.2MB/s    in 31s     \n",
            "\n",
            "2024-12-03 19:06:55 (21.8 MB/s) - ‘hadoop-3.3.5.tar.gz’ saved [706533213/706533213]\n",
            "\n"
          ]
        }
      ]
    },
    {
      "cell_type": "code",
      "source": [
        "!tar -xzf hadoop-3.3.5.tar.gz"
      ],
      "metadata": {
        "id": "W8uMJt4d6pv2"
      },
      "execution_count": 4,
      "outputs": []
    },
    {
      "cell_type": "code",
      "source": [
        "import os\n",
        "os.environ['JAVA_HOME'] = '/usr/lib/jvm/java-8-openjdk-amd64'\n",
        "os.environ['HADOOP_HOME'] = '/content/hadoop-3.3.5'\n",
        "os.environ['PATH'] += ':/content/hadoop-3.3.5/bin'"
      ],
      "metadata": {
        "id": "-ajCihXU6z06"
      },
      "execution_count": 5,
      "outputs": []
    },
    {
      "cell_type": "code",
      "source": [
        "%%writefile /content/hadoop-3.3.5/etc/hadoop/core-site.xml\n",
        "<configuration>\n",
        "    <property>\n",
        "        <name>fs.defaultFS</name>\n",
        "        <value>hdfs://localhost:9000</value>\n",
        "    </property>\n",
        "</configuration>\n"
      ],
      "metadata": {
        "colab": {
          "base_uri": "https://localhost:8080/"
        },
        "id": "D-X5oFUT63Xv",
        "outputId": "ffaaf8c1-2f68-47d2-f381-45a0a7f52e50"
      },
      "execution_count": 6,
      "outputs": [
        {
          "output_type": "stream",
          "name": "stdout",
          "text": [
            "Overwriting /content/hadoop-3.3.5/etc/hadoop/core-site.xml\n"
          ]
        }
      ]
    },
    {
      "cell_type": "code",
      "source": [
        "%%writefile /content/hadoop-3.3.5/etc/hadoop/hdfs-site.xml\n",
        "<configuration>\n",
        "    <property>\n",
        "        <name>dfs.replication</name>\n",
        "        <value>1</value>\n",
        "    </property>\n",
        "</configuration>"
      ],
      "metadata": {
        "colab": {
          "base_uri": "https://localhost:8080/"
        },
        "id": "lIMUPNh3652g",
        "outputId": "f27dfd9f-5254-41a2-cad2-acb28dda67c4"
      },
      "execution_count": 7,
      "outputs": [
        {
          "output_type": "stream",
          "name": "stdout",
          "text": [
            "Overwriting /content/hadoop-3.3.5/etc/hadoop/hdfs-site.xml\n"
          ]
        }
      ]
    },
    {
      "cell_type": "code",
      "source": [
        "!hdfs namenode -format"
      ],
      "metadata": {
        "colab": {
          "base_uri": "https://localhost:8080/"
        },
        "id": "cvVJyhft6833",
        "outputId": "5c1d0cce-c255-4c85-bb5e-46c61b8a7b88"
      },
      "execution_count": 8,
      "outputs": [
        {
          "output_type": "stream",
          "name": "stdout",
          "text": [
            "WARNING: /content/hadoop-3.3.5/logs does not exist. Creating.\n",
            "2024-12-03 19:07:53,996 INFO namenode.NameNode: STARTUP_MSG: \n",
            "/************************************************************\n",
            "STARTUP_MSG: Starting NameNode\n",
            "STARTUP_MSG:   host = 1b1eb25bf463/172.28.0.12\n",
            "STARTUP_MSG:   args = [-format]\n",
            "STARTUP_MSG:   version = 3.3.5\n",
            "STARTUP_MSG:   classpath = /content/hadoop-3.3.5/etc/hadoop:/content/hadoop-3.3.5/share/hadoop/common/lib/kerb-identity-1.0.1.jar:/content/hadoop-3.3.5/share/hadoop/common/lib/netty-transport-4.1.77.Final.jar:/content/hadoop-3.3.5/share/hadoop/common/lib/reload4j-1.2.22.jar:/content/hadoop-3.3.5/share/hadoop/common/lib/netty-codec-mqtt-4.1.77.Final.jar:/content/hadoop-3.3.5/share/hadoop/common/lib/netty-handler-proxy-4.1.77.Final.jar:/content/hadoop-3.3.5/share/hadoop/common/lib/slf4j-api-1.7.36.jar:/content/hadoop-3.3.5/share/hadoop/common/lib/jettison-1.5.3.jar:/content/hadoop-3.3.5/share/hadoop/common/lib/jetty-http-9.4.48.v20220622.jar:/content/hadoop-3.3.5/share/hadoop/common/lib/netty-codec-http2-4.1.77.Final.jar:/content/hadoop-3.3.5/share/hadoop/common/lib/kerb-core-1.0.1.jar:/content/hadoop-3.3.5/share/hadoop/common/lib/javax.servlet-api-3.1.0.jar:/content/hadoop-3.3.5/share/hadoop/common/lib/hadoop-annotations-3.3.5.jar:/content/hadoop-3.3.5/share/hadoop/common/lib/netty-transport-native-unix-common-4.1.77.Final.jar:/content/hadoop-3.3.5/share/hadoop/common/lib/netty-codec-xml-4.1.77.Final.jar:/content/hadoop-3.3.5/share/hadoop/common/lib/jackson-annotations-2.12.7.jar:/content/hadoop-3.3.5/share/hadoop/common/lib/accessors-smart-2.4.7.jar:/content/hadoop-3.3.5/share/hadoop/common/lib/kerb-util-1.0.1.jar:/content/hadoop-3.3.5/share/hadoop/common/lib/hadoop-shaded-guava-1.1.1.jar:/content/hadoop-3.3.5/share/hadoop/common/lib/j2objc-annotations-1.1.jar:/content/hadoop-3.3.5/share/hadoop/common/lib/jackson-core-2.12.7.jar:/content/hadoop-3.3.5/share/hadoop/common/lib/jcip-annotations-1.0-1.jar:/content/hadoop-3.3.5/share/hadoop/common/lib/commons-io-2.8.0.jar:/content/hadoop-3.3.5/share/hadoop/common/lib/netty-resolver-dns-native-macos-4.1.77.Final-osx-aarch_64.jar:/content/hadoop-3.3.5/share/hadoop/common/lib/netty-codec-memcache-4.1.77.Final.jar:/content/hadoop-3.3.5/share/hadoop/common/lib/commons-daemon-1.0.13.jar:/content/hadoop-3.3.5/share/hadoop/common/lib/netty-handler-4.1.77.Final.jar:/content/hadoop-3.3.5/share/hadoop/common/lib/checker-qual-2.5.2.jar:/content/hadoop-3.3.5/share/hadoop/common/lib/kerby-util-1.0.1.jar:/content/hadoop-3.3.5/share/hadoop/common/lib/commons-lang3-3.12.0.jar:/content/hadoop-3.3.5/share/hadoop/common/lib/netty-codec-haproxy-4.1.77.Final.jar:/content/hadoop-3.3.5/share/hadoop/common/lib/jetty-server-9.4.48.v20220622.jar:/content/hadoop-3.3.5/share/hadoop/common/lib/snappy-java-1.1.8.2.jar:/content/hadoop-3.3.5/share/hadoop/common/lib/listenablefuture-9999.0-empty-to-avoid-conflict-with-guava.jar:/content/hadoop-3.3.5/share/hadoop/common/lib/commons-logging-1.1.3.jar:/content/hadoop-3.3.5/share/hadoop/common/lib/jetty-webapp-9.4.48.v20220622.jar:/content/hadoop-3.3.5/share/hadoop/common/lib/netty-transport-rxtx-4.1.77.Final.jar:/content/hadoop-3.3.5/share/hadoop/common/lib/hadoop-auth-3.3.5.jar:/content/hadoop-3.3.5/share/hadoop/common/lib/commons-collections-3.2.2.jar:/content/hadoop-3.3.5/share/hadoop/common/lib/jetty-util-9.4.48.v20220622.jar:/content/hadoop-3.3.5/share/hadoop/common/lib/audience-annotations-0.5.0.jar:/content/hadoop-3.3.5/share/hadoop/common/lib/netty-transport-native-kqueue-4.1.77.Final-osx-x86_64.jar:/content/hadoop-3.3.5/share/hadoop/common/lib/kerb-server-1.0.1.jar:/content/hadoop-3.3.5/share/hadoop/common/lib/jetty-security-9.4.48.v20220622.jar:/content/hadoop-3.3.5/share/hadoop/common/lib/asm-5.0.4.jar:/content/hadoop-3.3.5/share/hadoop/common/lib/kerb-admin-1.0.1.jar:/content/hadoop-3.3.5/share/hadoop/common/lib/jersey-core-1.19.4.jar:/content/hadoop-3.3.5/share/hadoop/common/lib/netty-resolver-4.1.77.Final.jar:/content/hadoop-3.3.5/share/hadoop/common/lib/commons-codec-1.15.jar:/content/hadoop-3.3.5/share/hadoop/common/lib/netty-codec-dns-4.1.77.Final.jar:/content/hadoop-3.3.5/share/hadoop/common/lib/netty-transport-native-kqueue-4.1.77.Final-osx-aarch_64.jar:/content/hadoop-3.3.5/share/hadoop/common/lib/gson-2.9.0.jar:/content/hadoop-3.3.5/share/hadoop/common/lib/jackson-databind-2.12.7.1.jar:/content/hadoop-3.3.5/share/hadoop/common/lib/kerb-simplekdc-1.0.1.jar:/content/hadoop-3.3.5/share/hadoop/common/lib/netty-codec-smtp-4.1.77.Final.jar:/content/hadoop-3.3.5/share/hadoop/common/lib/nimbus-jose-jwt-9.8.1.jar:/content/hadoop-3.3.5/share/hadoop/common/lib/netty-codec-redis-4.1.77.Final.jar:/content/hadoop-3.3.5/share/hadoop/common/lib/netty-codec-http-4.1.77.Final.jar:/content/hadoop-3.3.5/share/hadoop/common/lib/curator-recipes-4.2.0.jar:/content/hadoop-3.3.5/share/hadoop/common/lib/commons-cli-1.2.jar:/content/hadoop-3.3.5/share/hadoop/common/lib/jsp-api-2.1.jar:/content/hadoop-3.3.5/share/hadoop/common/lib/slf4j-reload4j-1.7.36.jar:/content/hadoop-3.3.5/share/hadoop/common/lib/animal-sniffer-annotations-1.17.jar:/content/hadoop-3.3.5/share/hadoop/common/lib/jackson-core-asl-1.9.13.jar:/content/hadoop-3.3.5/share/hadoop/common/lib/commons-text-1.10.0.jar:/content/hadoop-3.3.5/share/hadoop/common/lib/httpcore-4.4.13.jar:/content/hadoop-3.3.5/share/hadoop/common/lib/commons-compress-1.21.jar:/content/hadoop-3.3.5/share/hadoop/common/lib/hadoop-shaded-protobuf_3_7-1.1.1.jar:/content/hadoop-3.3.5/share/hadoop/common/lib/commons-beanutils-1.9.4.jar:/content/hadoop-3.3.5/share/hadoop/common/lib/jersey-server-1.19.4.jar:/content/hadoop-3.3.5/share/hadoop/common/lib/jetty-io-9.4.48.v20220622.jar:/content/hadoop-3.3.5/share/hadoop/common/lib/jaxb-impl-2.2.3-1.jar:/content/hadoop-3.3.5/share/hadoop/common/lib/jetty-servlet-9.4.48.v20220622.jar:/content/hadoop-3.3.5/share/hadoop/common/lib/commons-configuration2-2.8.0.jar:/content/hadoop-3.3.5/share/hadoop/common/lib/netty-transport-classes-kqueue-4.1.77.Final.jar:/content/hadoop-3.3.5/share/hadoop/common/lib/jackson-mapper-asl-1.9.13.jar:/content/hadoop-3.3.5/share/hadoop/common/lib/woodstox-core-5.4.0.jar:/content/hadoop-3.3.5/share/hadoop/common/lib/kerb-client-1.0.1.jar:/content/hadoop-3.3.5/share/hadoop/common/lib/netty-resolver-dns-4.1.77.Final.jar:/content/hadoop-3.3.5/share/hadoop/common/lib/netty-codec-stomp-4.1.77.Final.jar:/content/hadoop-3.3.5/share/hadoop/common/lib/jetty-xml-9.4.48.v20220622.jar:/content/hadoop-3.3.5/share/hadoop/common/lib/netty-transport-native-epoll-4.1.77.Final-linux-x86_64.jar:/content/hadoop-3.3.5/share/hadoop/common/lib/netty-codec-socks-4.1.77.Final.jar:/content/hadoop-3.3.5/share/hadoop/common/lib/kerb-crypto-1.0.1.jar:/content/hadoop-3.3.5/share/hadoop/common/lib/jersey-servlet-1.19.4.jar:/content/hadoop-3.3.5/share/hadoop/common/lib/failureaccess-1.0.jar:/content/hadoop-3.3.5/share/hadoop/common/lib/jakarta.activation-api-1.2.1.jar:/content/hadoop-3.3.5/share/hadoop/common/lib/jsch-0.1.55.jar:/content/hadoop-3.3.5/share/hadoop/common/lib/netty-transport-sctp-4.1.77.Final.jar:/content/hadoop-3.3.5/share/hadoop/common/lib/netty-all-4.1.77.Final.jar:/content/hadoop-3.3.5/share/hadoop/common/lib/kerby-config-1.0.1.jar:/content/hadoop-3.3.5/share/hadoop/common/lib/dnsjava-2.1.7.jar:/content/hadoop-3.3.5/share/hadoop/common/lib/commons-math3-3.1.1.jar:/content/hadoop-3.3.5/share/hadoop/common/lib/netty-transport-udt-4.1.77.Final.jar:/content/hadoop-3.3.5/share/hadoop/common/lib/avro-1.7.7.jar:/content/hadoop-3.3.5/share/hadoop/common/lib/protobuf-java-2.5.0.jar:/content/hadoop-3.3.5/share/hadoop/common/lib/jsr311-api-1.1.1.jar:/content/hadoop-3.3.5/share/hadoop/common/lib/commons-net-3.9.0.jar:/content/hadoop-3.3.5/share/hadoop/common/lib/zookeeper-jute-3.5.6.jar:/content/hadoop-3.3.5/share/hadoop/common/lib/curator-client-4.2.0.jar:/content/hadoop-3.3.5/share/hadoop/common/lib/json-smart-2.4.7.jar:/content/hadoop-3.3.5/share/hadoop/common/lib/kerby-xdr-1.0.1.jar:/content/hadoop-3.3.5/share/hadoop/common/lib/netty-transport-native-epoll-4.1.77.Final-linux-aarch_64.jar:/content/hadoop-3.3.5/share/hadoop/common/lib/token-provider-1.0.1.jar:/content/hadoop-3.3.5/share/hadoop/common/lib/netty-resolver-dns-native-macos-4.1.77.Final-osx-x86_64.jar:/content/hadoop-3.3.5/share/hadoop/common/lib/paranamer-2.3.jar:/content/hadoop-3.3.5/share/hadoop/common/lib/zookeeper-3.5.6.jar:/content/hadoop-3.3.5/share/hadoop/common/lib/metrics-core-3.2.4.jar:/content/hadoop-3.3.5/share/hadoop/common/lib/netty-transport-classes-epoll-4.1.77.Final.jar:/content/hadoop-3.3.5/share/hadoop/common/lib/jul-to-slf4j-1.7.36.jar:/content/hadoop-3.3.5/share/hadoop/common/lib/netty-buffer-4.1.77.Final.jar:/content/hadoop-3.3.5/share/hadoop/common/lib/jetty-util-ajax-9.4.48.v20220622.jar:/content/hadoop-3.3.5/share/hadoop/common/lib/jsr305-3.0.2.jar:/content/hadoop-3.3.5/share/hadoop/common/lib/guava-27.0-jre.jar:/content/hadoop-3.3.5/share/hadoop/common/lib/netty-codec-4.1.77.Final.jar:/content/hadoop-3.3.5/share/hadoop/common/lib/kerby-pkix-1.0.1.jar:/content/hadoop-3.3.5/share/hadoop/common/lib/curator-framework-4.2.0.jar:/content/hadoop-3.3.5/share/hadoop/common/lib/re2j-1.1.jar:/content/hadoop-3.3.5/share/hadoop/common/lib/jersey-json-1.20.jar:/content/hadoop-3.3.5/share/hadoop/common/lib/netty-resolver-dns-classes-macos-4.1.77.Final.jar:/content/hadoop-3.3.5/share/hadoop/common/lib/netty-common-4.1.77.Final.jar:/content/hadoop-3.3.5/share/hadoop/common/lib/kerby-asn1-1.0.1.jar:/content/hadoop-3.3.5/share/hadoop/common/lib/jaxb-api-2.2.11.jar:/content/hadoop-3.3.5/share/hadoop/common/lib/stax2-api-4.2.1.jar:/content/hadoop-3.3.5/share/hadoop/common/lib/kerb-common-1.0.1.jar:/content/hadoop-3.3.5/share/hadoop/common/lib/httpclient-4.5.13.jar:/content/hadoop-3.3.5/share/hadoop/common/hadoop-nfs-3.3.5.jar:/content/hadoop-3.3.5/share/hadoop/common/hadoop-registry-3.3.5.jar:/content/hadoop-3.3.5/share/hadoop/common/hadoop-common-3.3.5.jar:/content/hadoop-3.3.5/share/hadoop/common/hadoop-common-3.3.5-tests.jar:/content/hadoop-3.3.5/share/hadoop/common/hadoop-kms-3.3.5.jar:/content/hadoop-3.3.5/share/hadoop/hdfs:/content/hadoop-3.3.5/share/hadoop/hdfs/lib/kerb-identity-1.0.1.jar:/content/hadoop-3.3.5/share/hadoop/hdfs/lib/netty-transport-4.1.77.Final.jar:/content/hadoop-3.3.5/share/hadoop/hdfs/lib/reload4j-1.2.22.jar:/content/hadoop-3.3.5/share/hadoop/hdfs/lib/netty-codec-mqtt-4.1.77.Final.jar:/content/hadoop-3.3.5/share/hadoop/hdfs/lib/netty-handler-proxy-4.1.77.Final.jar:/content/hadoop-3.3.5/share/hadoop/hdfs/lib/netty-3.10.6.Final.jar:/content/hadoop-3.3.5/share/hadoop/hdfs/lib/jettison-1.5.3.jar:/content/hadoop-3.3.5/share/hadoop/hdfs/lib/jetty-http-9.4.48.v20220622.jar:/content/hadoop-3.3.5/share/hadoop/hdfs/lib/netty-codec-http2-4.1.77.Final.jar:/content/hadoop-3.3.5/share/hadoop/hdfs/lib/kerb-core-1.0.1.jar:/content/hadoop-3.3.5/share/hadoop/hdfs/lib/javax.servlet-api-3.1.0.jar:/content/hadoop-3.3.5/share/hadoop/hdfs/lib/hadoop-annotations-3.3.5.jar:/content/hadoop-3.3.5/share/hadoop/hdfs/lib/netty-transport-native-unix-common-4.1.77.Final.jar:/content/hadoop-3.3.5/share/hadoop/hdfs/lib/netty-codec-xml-4.1.77.Final.jar:/content/hadoop-3.3.5/share/hadoop/hdfs/lib/jackson-annotations-2.12.7.jar:/content/hadoop-3.3.5/share/hadoop/hdfs/lib/accessors-smart-2.4.7.jar:/content/hadoop-3.3.5/share/hadoop/hdfs/lib/kerb-util-1.0.1.jar:/content/hadoop-3.3.5/share/hadoop/hdfs/lib/hadoop-shaded-guava-1.1.1.jar:/content/hadoop-3.3.5/share/hadoop/hdfs/lib/j2objc-annotations-1.1.jar:/content/hadoop-3.3.5/share/hadoop/hdfs/lib/jackson-core-2.12.7.jar:/content/hadoop-3.3.5/share/hadoop/hdfs/lib/jcip-annotations-1.0-1.jar:/content/hadoop-3.3.5/share/hadoop/hdfs/lib/commons-io-2.8.0.jar:/content/hadoop-3.3.5/share/hadoop/hdfs/lib/netty-resolver-dns-native-macos-4.1.77.Final-osx-aarch_64.jar:/content/hadoop-3.3.5/share/hadoop/hdfs/lib/netty-codec-memcache-4.1.77.Final.jar:/content/hadoop-3.3.5/share/hadoop/hdfs/lib/commons-daemon-1.0.13.jar:/content/hadoop-3.3.5/share/hadoop/hdfs/lib/netty-handler-4.1.77.Final.jar:/content/hadoop-3.3.5/share/hadoop/hdfs/lib/checker-qual-2.5.2.jar:/content/hadoop-3.3.5/share/hadoop/hdfs/lib/kerby-util-1.0.1.jar:/content/hadoop-3.3.5/share/hadoop/hdfs/lib/commons-lang3-3.12.0.jar:/content/hadoop-3.3.5/share/hadoop/hdfs/lib/netty-codec-haproxy-4.1.77.Final.jar:/content/hadoop-3.3.5/share/hadoop/hdfs/lib/jetty-server-9.4.48.v20220622.jar:/content/hadoop-3.3.5/share/hadoop/hdfs/lib/snappy-java-1.1.8.2.jar:/content/hadoop-3.3.5/share/hadoop/hdfs/lib/listenablefuture-9999.0-empty-to-avoid-conflict-with-guava.jar:/content/hadoop-3.3.5/share/hadoop/hdfs/lib/commons-logging-1.1.3.jar:/content/hadoop-3.3.5/share/hadoop/hdfs/lib/jetty-webapp-9.4.48.v20220622.jar:/content/hadoop-3.3.5/share/hadoop/hdfs/lib/netty-transport-rxtx-4.1.77.Final.jar:/content/hadoop-3.3.5/share/hadoop/hdfs/lib/kotlin-stdlib-1.4.10.jar:/content/hadoop-3.3.5/share/hadoop/hdfs/lib/hadoop-auth-3.3.5.jar:/content/hadoop-3.3.5/share/hadoop/hdfs/lib/commons-collections-3.2.2.jar:/content/hadoop-3.3.5/share/hadoop/hdfs/lib/jetty-util-9.4.48.v20220622.jar:/content/hadoop-3.3.5/share/hadoop/hdfs/lib/leveldbjni-all-1.8.jar:/content/hadoop-3.3.5/share/hadoop/hdfs/lib/audience-annotations-0.5.0.jar:/content/hadoop-3.3.5/share/hadoop/hdfs/lib/netty-transport-native-kqueue-4.1.77.Final-osx-x86_64.jar:/content/hadoop-3.3.5/share/hadoop/hdfs/lib/kerb-server-1.0.1.jar:/content/hadoop-3.3.5/share/hadoop/hdfs/lib/jetty-security-9.4.48.v20220622.jar:/content/hadoop-3.3.5/share/hadoop/hdfs/lib/asm-5.0.4.jar:/content/hadoop-3.3.5/share/hadoop/hdfs/lib/kerb-admin-1.0.1.jar:/content/hadoop-3.3.5/share/hadoop/hdfs/lib/jersey-core-1.19.4.jar:/content/hadoop-3.3.5/share/hadoop/hdfs/lib/netty-resolver-4.1.77.Final.jar:/content/hadoop-3.3.5/share/hadoop/hdfs/lib/commons-codec-1.15.jar:/content/hadoop-3.3.5/share/hadoop/hdfs/lib/netty-codec-dns-4.1.77.Final.jar:/content/hadoop-3.3.5/share/hadoop/hdfs/lib/netty-transport-native-kqueue-4.1.77.Final-osx-aarch_64.jar:/content/hadoop-3.3.5/share/hadoop/hdfs/lib/gson-2.9.0.jar:/content/hadoop-3.3.5/share/hadoop/hdfs/lib/jackson-databind-2.12.7.1.jar:/content/hadoop-3.3.5/share/hadoop/hdfs/lib/kerb-simplekdc-1.0.1.jar:/content/hadoop-3.3.5/share/hadoop/hdfs/lib/netty-codec-smtp-4.1.77.Final.jar:/content/hadoop-3.3.5/share/hadoop/hdfs/lib/nimbus-jose-jwt-9.8.1.jar:/content/hadoop-3.3.5/share/hadoop/hdfs/lib/netty-codec-redis-4.1.77.Final.jar:/content/hadoop-3.3.5/share/hadoop/hdfs/lib/netty-codec-http-4.1.77.Final.jar:/content/hadoop-3.3.5/share/hadoop/hdfs/lib/curator-recipes-4.2.0.jar:/content/hadoop-3.3.5/share/hadoop/hdfs/lib/commons-cli-1.2.jar:/content/hadoop-3.3.5/share/hadoop/hdfs/lib/json-simple-1.1.1.jar:/content/hadoop-3.3.5/share/hadoop/hdfs/lib/kotlin-stdlib-common-1.4.10.jar:/content/hadoop-3.3.5/share/hadoop/hdfs/lib/animal-sniffer-annotations-1.17.jar:/content/hadoop-3.3.5/share/hadoop/hdfs/lib/jackson-core-asl-1.9.13.jar:/content/hadoop-3.3.5/share/hadoop/hdfs/lib/commons-text-1.10.0.jar:/content/hadoop-3.3.5/share/hadoop/hdfs/lib/httpcore-4.4.13.jar:/content/hadoop-3.3.5/share/hadoop/hdfs/lib/commons-compress-1.21.jar:/content/hadoop-3.3.5/share/hadoop/hdfs/lib/hadoop-shaded-protobuf_3_7-1.1.1.jar:/content/hadoop-3.3.5/share/hadoop/hdfs/lib/okhttp-4.9.3.jar:/content/hadoop-3.3.5/share/hadoop/hdfs/lib/commons-beanutils-1.9.4.jar:/content/hadoop-3.3.5/share/hadoop/hdfs/lib/jersey-server-1.19.4.jar:/content/hadoop-3.3.5/share/hadoop/hdfs/lib/jetty-io-9.4.48.v20220622.jar:/content/hadoop-3.3.5/share/hadoop/hdfs/lib/jaxb-impl-2.2.3-1.jar:/content/hadoop-3.3.5/share/hadoop/hdfs/lib/jetty-servlet-9.4.48.v20220622.jar:/content/hadoop-3.3.5/share/hadoop/hdfs/lib/commons-configuration2-2.8.0.jar:/content/hadoop-3.3.5/share/hadoop/hdfs/lib/netty-transport-classes-kqueue-4.1.77.Final.jar:/content/hadoop-3.3.5/share/hadoop/hdfs/lib/jackson-mapper-asl-1.9.13.jar:/content/hadoop-3.3.5/share/hadoop/hdfs/lib/woodstox-core-5.4.0.jar:/content/hadoop-3.3.5/share/hadoop/hdfs/lib/kerb-client-1.0.1.jar:/content/hadoop-3.3.5/share/hadoop/hdfs/lib/netty-resolver-dns-4.1.77.Final.jar:/content/hadoop-3.3.5/share/hadoop/hdfs/lib/netty-codec-stomp-4.1.77.Final.jar:/content/hadoop-3.3.5/share/hadoop/hdfs/lib/jetty-xml-9.4.48.v20220622.jar:/content/hadoop-3.3.5/share/hadoop/hdfs/lib/netty-transport-native-epoll-4.1.77.Final-linux-x86_64.jar:/content/hadoop-3.3.5/share/hadoop/hdfs/lib/netty-codec-socks-4.1.77.Final.jar:/content/hadoop-3.3.5/share/hadoop/hdfs/lib/kerb-crypto-1.0.1.jar:/content/hadoop-3.3.5/share/hadoop/hdfs/lib/jersey-servlet-1.19.4.jar:/content/hadoop-3.3.5/share/hadoop/hdfs/lib/failureaccess-1.0.jar:/content/hadoop-3.3.5/share/hadoop/hdfs/lib/jakarta.activation-api-1.2.1.jar:/content/hadoop-3.3.5/share/hadoop/hdfs/lib/jsch-0.1.55.jar:/content/hadoop-3.3.5/share/hadoop/hdfs/lib/netty-transport-sctp-4.1.77.Final.jar:/content/hadoop-3.3.5/share/hadoop/hdfs/lib/netty-all-4.1.77.Final.jar:/content/hadoop-3.3.5/share/hadoop/hdfs/lib/kerby-config-1.0.1.jar:/content/hadoop-3.3.5/share/hadoop/hdfs/lib/dnsjava-2.1.7.jar:/content/hadoop-3.3.5/share/hadoop/hdfs/lib/commons-math3-3.1.1.jar:/content/hadoop-3.3.5/share/hadoop/hdfs/lib/netty-transport-udt-4.1.77.Final.jar:/content/hadoop-3.3.5/share/hadoop/hdfs/lib/avro-1.7.7.jar:/content/hadoop-3.3.5/share/hadoop/hdfs/lib/protobuf-java-2.5.0.jar:/content/hadoop-3.3.5/share/hadoop/hdfs/lib/jsr311-api-1.1.1.jar:/content/hadoop-3.3.5/share/hadoop/hdfs/lib/commons-net-3.9.0.jar:/content/hadoop-3.3.5/share/hadoop/hdfs/lib/zookeeper-jute-3.5.6.jar:/content/hadoop-3.3.5/share/hadoop/hdfs/lib/curator-client-4.2.0.jar:/content/hadoop-3.3.5/share/hadoop/hdfs/lib/json-smart-2.4.7.jar:/content/hadoop-3.3.5/share/hadoop/hdfs/lib/kerby-xdr-1.0.1.jar:/content/hadoop-3.3.5/share/hadoop/hdfs/lib/netty-transport-native-epoll-4.1.77.Final-linux-aarch_64.jar:/content/hadoop-3.3.5/share/hadoop/hdfs/lib/token-provider-1.0.1.jar:/content/hadoop-3.3.5/share/hadoop/hdfs/lib/netty-resolver-dns-native-macos-4.1.77.Final-osx-x86_64.jar:/content/hadoop-3.3.5/share/hadoop/hdfs/lib/okio-2.8.0.jar:/content/hadoop-3.3.5/share/hadoop/hdfs/lib/paranamer-2.3.jar:/content/hadoop-3.3.5/share/hadoop/hdfs/lib/zookeeper-3.5.6.jar:/content/hadoop-3.3.5/share/hadoop/hdfs/lib/netty-transport-classes-epoll-4.1.77.Final.jar:/content/hadoop-3.3.5/share/hadoop/hdfs/lib/netty-buffer-4.1.77.Final.jar:/content/hadoop-3.3.5/share/hadoop/hdfs/lib/jetty-util-ajax-9.4.48.v20220622.jar:/content/hadoop-3.3.5/share/hadoop/hdfs/lib/jsr305-3.0.2.jar:/content/hadoop-3.3.5/share/hadoop/hdfs/lib/guava-27.0-jre.jar:/content/hadoop-3.3.5/share/hadoop/hdfs/lib/netty-codec-4.1.77.Final.jar:/content/hadoop-3.3.5/share/hadoop/hdfs/lib/kerby-pkix-1.0.1.jar:/content/hadoop-3.3.5/share/hadoop/hdfs/lib/curator-framework-4.2.0.jar:/content/hadoop-3.3.5/share/hadoop/hdfs/lib/re2j-1.1.jar:/content/hadoop-3.3.5/share/hadoop/hdfs/lib/jersey-json-1.20.jar:/content/hadoop-3.3.5/share/hadoop/hdfs/lib/netty-resolver-dns-classes-macos-4.1.77.Final.jar:/content/hadoop-3.3.5/share/hadoop/hdfs/lib/netty-common-4.1.77.Final.jar:/content/hadoop-3.3.5/share/hadoop/hdfs/lib/kerby-asn1-1.0.1.jar:/content/hadoop-3.3.5/share/hadoop/hdfs/lib/jaxb-api-2.2.11.jar:/content/hadoop-3.3.5/share/hadoop/hdfs/lib/stax2-api-4.2.1.jar:/content/hadoop-3.3.5/share/hadoop/hdfs/lib/kerb-common-1.0.1.jar:/content/hadoop-3.3.5/share/hadoop/hdfs/lib/httpclient-4.5.13.jar:/content/hadoop-3.3.5/share/hadoop/hdfs/hadoop-hdfs-client-3.3.5-tests.jar:/content/hadoop-3.3.5/share/hadoop/hdfs/hadoop-hdfs-native-client-3.3.5-tests.jar:/content/hadoop-3.3.5/share/hadoop/hdfs/hadoop-hdfs-3.3.5.jar:/content/hadoop-3.3.5/share/hadoop/hdfs/hadoop-hdfs-httpfs-3.3.5.jar:/content/hadoop-3.3.5/share/hadoop/hdfs/hadoop-hdfs-rbf-3.3.5.jar:/content/hadoop-3.3.5/share/hadoop/hdfs/hadoop-hdfs-nfs-3.3.5.jar:/content/hadoop-3.3.5/share/hadoop/hdfs/hadoop-hdfs-rbf-3.3.5-tests.jar:/content/hadoop-3.3.5/share/hadoop/hdfs/hadoop-hdfs-native-client-3.3.5.jar:/content/hadoop-3.3.5/share/hadoop/hdfs/hadoop-hdfs-client-3.3.5.jar:/content/hadoop-3.3.5/share/hadoop/hdfs/hadoop-hdfs-3.3.5-tests.jar:/content/hadoop-3.3.5/share/hadoop/mapreduce/hadoop-mapreduce-client-app-3.3.5.jar:/content/hadoop-3.3.5/share/hadoop/mapreduce/hadoop-mapreduce-client-core-3.3.5.jar:/content/hadoop-3.3.5/share/hadoop/mapreduce/hadoop-mapreduce-client-hs-3.3.5.jar:/content/hadoop-3.3.5/share/hadoop/mapreduce/hadoop-mapreduce-client-common-3.3.5.jar:/content/hadoop-3.3.5/share/hadoop/mapreduce/hadoop-mapreduce-client-hs-plugins-3.3.5.jar:/content/hadoop-3.3.5/share/hadoop/mapreduce/hadoop-mapreduce-client-uploader-3.3.5.jar:/content/hadoop-3.3.5/share/hadoop/mapreduce/hadoop-mapreduce-examples-3.3.5.jar:/content/hadoop-3.3.5/share/hadoop/mapreduce/hadoop-mapreduce-client-shuffle-3.3.5.jar:/content/hadoop-3.3.5/share/hadoop/mapreduce/hadoop-mapreduce-client-jobclient-3.3.5-tests.jar:/content/hadoop-3.3.5/share/hadoop/mapreduce/hadoop-mapreduce-client-jobclient-3.3.5.jar:/content/hadoop-3.3.5/share/hadoop/mapreduce/hadoop-mapreduce-client-nativetask-3.3.5.jar:/content/hadoop-3.3.5/share/hadoop/yarn:/content/hadoop-3.3.5/share/hadoop/yarn/lib/jna-5.2.0.jar:/content/hadoop-3.3.5/share/hadoop/yarn/lib/guice-4.0.jar:/content/hadoop-3.3.5/share/hadoop/yarn/lib/websocket-server-9.4.48.v20220622.jar:/content/hadoop-3.3.5/share/hadoop/yarn/lib/java-util-1.9.0.jar:/content/hadoop-3.3.5/share/hadoop/yarn/lib/jackson-jaxrs-base-2.12.7.jar:/content/hadoop-3.3.5/share/hadoop/yarn/lib/jakarta.xml.bind-api-2.3.2.jar:/content/hadoop-3.3.5/share/hadoop/yarn/lib/json-io-2.5.1.jar:/content/hadoop-3.3.5/share/hadoop/yarn/lib/jersey-client-1.19.4.jar:/content/hadoop-3.3.5/share/hadoop/yarn/lib/jetty-jndi-9.4.48.v20220622.jar:/content/hadoop-3.3.5/share/hadoop/yarn/lib/javax.websocket-api-1.0.jar:/content/hadoop-3.3.5/share/hadoop/yarn/lib/websocket-api-9.4.48.v20220622.jar:/content/hadoop-3.3.5/share/hadoop/yarn/lib/javax-websocket-client-impl-9.4.48.v20220622.jar:/content/hadoop-3.3.5/share/hadoop/yarn/lib/jetty-annotations-9.4.48.v20220622.jar:/content/hadoop-3.3.5/share/hadoop/yarn/lib/websocket-client-9.4.48.v20220622.jar:/content/hadoop-3.3.5/share/hadoop/yarn/lib/javax.inject-1.jar:/content/hadoop-3.3.5/share/hadoop/yarn/lib/websocket-servlet-9.4.48.v20220622.jar:/content/hadoop-3.3.5/share/hadoop/yarn/lib/websocket-common-9.4.48.v20220622.jar:/content/hadoop-3.3.5/share/hadoop/yarn/lib/asm-analysis-9.3.jar:/content/hadoop-3.3.5/share/hadoop/yarn/lib/jetty-client-9.4.48.v20220622.jar:/content/hadoop-3.3.5/share/hadoop/yarn/lib/bcpkix-jdk15on-1.68.jar:/content/hadoop-3.3.5/share/hadoop/yarn/lib/jackson-module-jaxb-annotations-2.12.7.jar:/content/hadoop-3.3.5/share/hadoop/yarn/lib/objenesis-2.6.jar:/content/hadoop-3.3.5/share/hadoop/yarn/lib/bcprov-jdk15on-1.68.jar:/content/hadoop-3.3.5/share/hadoop/yarn/lib/asm-commons-9.3.jar:/content/hadoop-3.3.5/share/hadoop/yarn/lib/ehcache-3.3.1.jar:/content/hadoop-3.3.5/share/hadoop/yarn/lib/swagger-annotations-1.5.4.jar:/content/hadoop-3.3.5/share/hadoop/yarn/lib/snakeyaml-1.32.jar:/content/hadoop-3.3.5/share/hadoop/yarn/lib/javax-websocket-server-impl-9.4.48.v20220622.jar:/content/hadoop-3.3.5/share/hadoop/yarn/lib/jline-3.9.0.jar:/content/hadoop-3.3.5/share/hadoop/yarn/lib/HikariCP-java7-2.4.12.jar:/content/hadoop-3.3.5/share/hadoop/yarn/lib/asm-tree-9.3.jar:/content/hadoop-3.3.5/share/hadoop/yarn/lib/jetty-plus-9.4.48.v20220622.jar:/content/hadoop-3.3.5/share/hadoop/yarn/lib/javax.websocket-client-api-1.0.jar:/content/hadoop-3.3.5/share/hadoop/yarn/lib/metrics-core-3.2.4.jar:/content/hadoop-3.3.5/share/hadoop/yarn/lib/jackson-jaxrs-json-provider-2.12.7.jar:/content/hadoop-3.3.5/share/hadoop/yarn/lib/geronimo-jcache_1.0_spec-1.0-alpha-1.jar:/content/hadoop-3.3.5/share/hadoop/yarn/lib/guice-servlet-4.0.jar:/content/hadoop-3.3.5/share/hadoop/yarn/lib/fst-2.50.jar:/content/hadoop-3.3.5/share/hadoop/yarn/lib/jersey-guice-1.19.4.jar:/content/hadoop-3.3.5/share/hadoop/yarn/lib/aopalliance-1.0.jar:/content/hadoop-3.3.5/share/hadoop/yarn/lib/mssql-jdbc-6.2.1.jre7.jar:/content/hadoop-3.3.5/share/hadoop/yarn/hadoop-yarn-common-3.3.5.jar:/content/hadoop-3.3.5/share/hadoop/yarn/hadoop-yarn-registry-3.3.5.jar:/content/hadoop-3.3.5/share/hadoop/yarn/hadoop-yarn-services-core-3.3.5.jar:/content/hadoop-3.3.5/share/hadoop/yarn/hadoop-yarn-server-nodemanager-3.3.5.jar:/content/hadoop-3.3.5/share/hadoop/yarn/hadoop-yarn-applications-distributedshell-3.3.5.jar:/content/hadoop-3.3.5/share/hadoop/yarn/hadoop-yarn-applications-unmanaged-am-launcher-3.3.5.jar:/content/hadoop-3.3.5/share/hadoop/yarn/hadoop-yarn-server-tests-3.3.5.jar:/content/hadoop-3.3.5/share/hadoop/yarn/hadoop-yarn-server-applicationhistoryservice-3.3.5.jar:/content/hadoop-3.3.5/share/hadoop/yarn/hadoop-yarn-client-3.3.5.jar:/content/hadoop-3.3.5/share/hadoop/yarn/hadoop-yarn-server-timeline-pluginstorage-3.3.5.jar:/content/hadoop-3.3.5/share/hadoop/yarn/hadoop-yarn-server-resourcemanager-3.3.5.jar:/content/hadoop-3.3.5/share/hadoop/yarn/hadoop-yarn-services-api-3.3.5.jar:/content/hadoop-3.3.5/share/hadoop/yarn/hadoop-yarn-server-web-proxy-3.3.5.jar:/content/hadoop-3.3.5/share/hadoop/yarn/hadoop-yarn-applications-mawo-core-3.3.5.jar:/content/hadoop-3.3.5/share/hadoop/yarn/hadoop-yarn-server-router-3.3.5.jar:/content/hadoop-3.3.5/share/hadoop/yarn/hadoop-yarn-server-sharedcachemanager-3.3.5.jar:/content/hadoop-3.3.5/share/hadoop/yarn/hadoop-yarn-api-3.3.5.jar:/content/hadoop-3.3.5/share/hadoop/yarn/hadoop-yarn-server-common-3.3.5.jar\n",
            "STARTUP_MSG:   build = https://github.com/apache/hadoop.git -r 706d88266abcee09ed78fbaa0ad5f74d818ab0e9; compiled by 'stevel' on 2023-03-15T15:56Z\n",
            "STARTUP_MSG:   java = 1.8.0_432\n",
            "************************************************************/\n",
            "2024-12-03 19:07:54,089 INFO namenode.NameNode: registered UNIX signal handlers for [TERM, HUP, INT]\n",
            "2024-12-03 19:07:54,242 INFO namenode.NameNode: createNameNode [-format]\n",
            "2024-12-03 19:07:54,972 INFO namenode.NameNode: Formatting using clusterid: CID-92a90283-6606-4f14-94ea-056fb1ad8bcd\n",
            "2024-12-03 19:07:55,053 INFO namenode.FSEditLog: Edit logging is async:true\n",
            "2024-12-03 19:07:55,110 INFO namenode.FSNamesystem: KeyProvider: null\n",
            "2024-12-03 19:07:55,114 INFO namenode.FSNamesystem: fsLock is fair: true\n",
            "2024-12-03 19:07:55,115 INFO namenode.FSNamesystem: Detailed lock hold time metrics enabled: false\n",
            "2024-12-03 19:07:55,125 INFO namenode.FSNamesystem: fsOwner                = root (auth:SIMPLE)\n",
            "2024-12-03 19:07:55,125 INFO namenode.FSNamesystem: supergroup             = supergroup\n",
            "2024-12-03 19:07:55,125 INFO namenode.FSNamesystem: isPermissionEnabled    = true\n",
            "2024-12-03 19:07:55,126 INFO namenode.FSNamesystem: isStoragePolicyEnabled = true\n",
            "2024-12-03 19:07:55,126 INFO namenode.FSNamesystem: HA Enabled: false\n",
            "2024-12-03 19:07:55,215 INFO common.Util: dfs.datanode.fileio.profiling.sampling.percentage set to 0. Disabling file IO profiling\n",
            "2024-12-03 19:07:55,424 INFO blockmanagement.DatanodeManager: dfs.block.invalidate.limit : configured=1000, counted=60, effected=1000\n",
            "2024-12-03 19:07:55,425 INFO blockmanagement.DatanodeManager: dfs.namenode.datanode.registration.ip-hostname-check=true\n",
            "2024-12-03 19:07:55,433 INFO blockmanagement.BlockManager: dfs.namenode.startup.delay.block.deletion.sec is set to 000:00:00:00.000\n",
            "2024-12-03 19:07:55,434 INFO blockmanagement.BlockManager: The block deletion will start around 2024 Dec 03 19:07:55\n",
            "2024-12-03 19:07:55,437 INFO util.GSet: Computing capacity for map BlocksMap\n",
            "2024-12-03 19:07:55,437 INFO util.GSet: VM type       = 64-bit\n",
            "2024-12-03 19:07:55,440 INFO util.GSet: 2.0% max memory 2.8 GB = 57.7 MB\n",
            "2024-12-03 19:07:55,440 INFO util.GSet: capacity      = 2^23 = 8388608 entries\n",
            "2024-12-03 19:07:55,480 INFO blockmanagement.BlockManager: Storage policy satisfier is disabled\n",
            "2024-12-03 19:07:55,481 INFO blockmanagement.BlockManager: dfs.block.access.token.enable = false\n",
            "2024-12-03 19:07:55,502 INFO blockmanagement.BlockManagerSafeMode: dfs.namenode.safemode.threshold-pct = 0.999\n",
            "2024-12-03 19:07:55,502 INFO blockmanagement.BlockManagerSafeMode: dfs.namenode.safemode.min.datanodes = 0\n",
            "2024-12-03 19:07:55,502 INFO blockmanagement.BlockManagerSafeMode: dfs.namenode.safemode.extension = 30000\n",
            "2024-12-03 19:07:55,503 INFO blockmanagement.BlockManager: defaultReplication         = 1\n",
            "2024-12-03 19:07:55,503 INFO blockmanagement.BlockManager: maxReplication             = 512\n",
            "2024-12-03 19:07:55,503 INFO blockmanagement.BlockManager: minReplication             = 1\n",
            "2024-12-03 19:07:55,503 INFO blockmanagement.BlockManager: maxReplicationStreams      = 2\n",
            "2024-12-03 19:07:55,503 INFO blockmanagement.BlockManager: redundancyRecheckInterval  = 3000ms\n",
            "2024-12-03 19:07:55,503 INFO blockmanagement.BlockManager: encryptDataTransfer        = false\n",
            "2024-12-03 19:07:55,504 INFO blockmanagement.BlockManager: maxNumBlocksToLog          = 1000\n",
            "2024-12-03 19:07:55,571 INFO namenode.FSDirectory: GLOBAL serial map: bits=29 maxEntries=536870911\n",
            "2024-12-03 19:07:55,571 INFO namenode.FSDirectory: USER serial map: bits=24 maxEntries=16777215\n",
            "2024-12-03 19:07:55,571 INFO namenode.FSDirectory: GROUP serial map: bits=24 maxEntries=16777215\n",
            "2024-12-03 19:07:55,571 INFO namenode.FSDirectory: XATTR serial map: bits=24 maxEntries=16777215\n",
            "2024-12-03 19:07:55,594 INFO util.GSet: Computing capacity for map INodeMap\n",
            "2024-12-03 19:07:55,594 INFO util.GSet: VM type       = 64-bit\n",
            "2024-12-03 19:07:55,594 INFO util.GSet: 1.0% max memory 2.8 GB = 28.9 MB\n",
            "2024-12-03 19:07:55,594 INFO util.GSet: capacity      = 2^22 = 4194304 entries\n",
            "2024-12-03 19:07:55,656 INFO namenode.FSDirectory: ACLs enabled? true\n",
            "2024-12-03 19:07:55,656 INFO namenode.FSDirectory: POSIX ACL inheritance enabled? true\n",
            "2024-12-03 19:07:55,656 INFO namenode.FSDirectory: XAttrs enabled? true\n",
            "2024-12-03 19:07:55,657 INFO namenode.NameNode: Caching file names occurring more than 10 times\n",
            "2024-12-03 19:07:55,665 INFO snapshot.SnapshotManager: Loaded config captureOpenFiles: false, skipCaptureAccessTimeOnlyChange: false, snapshotDiffAllowSnapRootDescendant: true, maxSnapshotLimit: 65536\n",
            "2024-12-03 19:07:55,672 INFO snapshot.SnapshotManager: SkipList is disabled\n",
            "2024-12-03 19:07:55,680 INFO util.GSet: Computing capacity for map cachedBlocks\n",
            "2024-12-03 19:07:55,680 INFO util.GSet: VM type       = 64-bit\n",
            "2024-12-03 19:07:55,680 INFO util.GSet: 0.25% max memory 2.8 GB = 7.2 MB\n",
            "2024-12-03 19:07:55,680 INFO util.GSet: capacity      = 2^20 = 1048576 entries\n",
            "2024-12-03 19:07:55,694 INFO metrics.TopMetrics: NNTop conf: dfs.namenode.top.window.num.buckets = 10\n",
            "2024-12-03 19:07:55,694 INFO metrics.TopMetrics: NNTop conf: dfs.namenode.top.num.users = 10\n",
            "2024-12-03 19:07:55,694 INFO metrics.TopMetrics: NNTop conf: dfs.namenode.top.windows.minutes = 1,5,25\n",
            "2024-12-03 19:07:55,708 INFO namenode.FSNamesystem: Retry cache on namenode is enabled\n",
            "2024-12-03 19:07:55,709 INFO namenode.FSNamesystem: Retry cache will use 0.03 of total heap and retry cache entry expiry time is 600000 millis\n",
            "2024-12-03 19:07:55,712 INFO util.GSet: Computing capacity for map NameNodeRetryCache\n",
            "2024-12-03 19:07:55,712 INFO util.GSet: VM type       = 64-bit\n",
            "2024-12-03 19:07:55,713 INFO util.GSet: 0.029999999329447746% max memory 2.8 GB = 886.4 KB\n",
            "2024-12-03 19:07:55,713 INFO util.GSet: capacity      = 2^17 = 131072 entries\n",
            "2024-12-03 19:07:55,767 INFO namenode.FSImage: Allocated new BlockPoolId: BP-1716538989-172.28.0.12-1733252875746\n",
            "2024-12-03 19:07:55,791 INFO common.Storage: Storage directory /tmp/hadoop-root/dfs/name has been successfully formatted.\n",
            "2024-12-03 19:07:55,843 INFO namenode.FSImageFormatProtobuf: Saving image file /tmp/hadoop-root/dfs/name/current/fsimage.ckpt_0000000000000000000 using no compression\n",
            "2024-12-03 19:07:56,115 INFO namenode.FSImageFormatProtobuf: Image file /tmp/hadoop-root/dfs/name/current/fsimage.ckpt_0000000000000000000 of size 399 bytes saved in 0 seconds .\n",
            "2024-12-03 19:07:56,136 INFO namenode.NNStorageRetentionManager: Going to retain 1 images with txid >= 0\n",
            "2024-12-03 19:07:56,179 INFO namenode.FSNamesystem: Stopping services started for active state\n",
            "2024-12-03 19:07:56,179 INFO namenode.FSNamesystem: Stopping services started for standby state\n",
            "2024-12-03 19:07:56,185 INFO namenode.FSImage: FSImageSaver clean checkpoint: txid=0 when meet shutdown.\n",
            "2024-12-03 19:07:56,185 INFO namenode.NameNode: SHUTDOWN_MSG: \n",
            "/************************************************************\n",
            "SHUTDOWN_MSG: Shutting down NameNode at 1b1eb25bf463/172.28.0.12\n",
            "************************************************************/\n"
          ]
        }
      ]
    },
    {
      "cell_type": "code",
      "source": [
        "import os\n",
        "print(os.environ['HADOOP_HOME'])"
      ],
      "metadata": {
        "colab": {
          "base_uri": "https://localhost:8080/"
        },
        "id": "8gx6XfLo6_mX",
        "outputId": "ca1173a7-eec2-42b5-ddd3-24b8cb172954"
      },
      "execution_count": 9,
      "outputs": [
        {
          "output_type": "stream",
          "name": "stdout",
          "text": [
            "/content/hadoop-3.3.5\n"
          ]
        }
      ]
    },
    {
      "cell_type": "code",
      "source": [
        "!/content/hadoop-3.3.5/bin/hdfs namenode -format"
      ],
      "metadata": {
        "colab": {
          "base_uri": "https://localhost:8080/"
        },
        "id": "aFmhVljY7OHW",
        "outputId": "407dc055-b4d0-4c97-dc1f-02ac8e012fda"
      },
      "execution_count": 10,
      "outputs": [
        {
          "output_type": "stream",
          "name": "stdout",
          "text": [
            "2024-12-03 19:09:02,764 INFO namenode.NameNode: STARTUP_MSG: \n",
            "/************************************************************\n",
            "STARTUP_MSG: Starting NameNode\n",
            "STARTUP_MSG:   host = 1b1eb25bf463/172.28.0.12\n",
            "STARTUP_MSG:   args = [-format]\n",
            "STARTUP_MSG:   version = 3.3.5\n",
            "STARTUP_MSG:   classpath = /content/hadoop-3.3.5/etc/hadoop:/content/hadoop-3.3.5/share/hadoop/common/lib/kerb-identity-1.0.1.jar:/content/hadoop-3.3.5/share/hadoop/common/lib/netty-transport-4.1.77.Final.jar:/content/hadoop-3.3.5/share/hadoop/common/lib/reload4j-1.2.22.jar:/content/hadoop-3.3.5/share/hadoop/common/lib/netty-codec-mqtt-4.1.77.Final.jar:/content/hadoop-3.3.5/share/hadoop/common/lib/netty-handler-proxy-4.1.77.Final.jar:/content/hadoop-3.3.5/share/hadoop/common/lib/slf4j-api-1.7.36.jar:/content/hadoop-3.3.5/share/hadoop/common/lib/jettison-1.5.3.jar:/content/hadoop-3.3.5/share/hadoop/common/lib/jetty-http-9.4.48.v20220622.jar:/content/hadoop-3.3.5/share/hadoop/common/lib/netty-codec-http2-4.1.77.Final.jar:/content/hadoop-3.3.5/share/hadoop/common/lib/kerb-core-1.0.1.jar:/content/hadoop-3.3.5/share/hadoop/common/lib/javax.servlet-api-3.1.0.jar:/content/hadoop-3.3.5/share/hadoop/common/lib/hadoop-annotations-3.3.5.jar:/content/hadoop-3.3.5/share/hadoop/common/lib/netty-transport-native-unix-common-4.1.77.Final.jar:/content/hadoop-3.3.5/share/hadoop/common/lib/netty-codec-xml-4.1.77.Final.jar:/content/hadoop-3.3.5/share/hadoop/common/lib/jackson-annotations-2.12.7.jar:/content/hadoop-3.3.5/share/hadoop/common/lib/accessors-smart-2.4.7.jar:/content/hadoop-3.3.5/share/hadoop/common/lib/kerb-util-1.0.1.jar:/content/hadoop-3.3.5/share/hadoop/common/lib/hadoop-shaded-guava-1.1.1.jar:/content/hadoop-3.3.5/share/hadoop/common/lib/j2objc-annotations-1.1.jar:/content/hadoop-3.3.5/share/hadoop/common/lib/jackson-core-2.12.7.jar:/content/hadoop-3.3.5/share/hadoop/common/lib/jcip-annotations-1.0-1.jar:/content/hadoop-3.3.5/share/hadoop/common/lib/commons-io-2.8.0.jar:/content/hadoop-3.3.5/share/hadoop/common/lib/netty-resolver-dns-native-macos-4.1.77.Final-osx-aarch_64.jar:/content/hadoop-3.3.5/share/hadoop/common/lib/netty-codec-memcache-4.1.77.Final.jar:/content/hadoop-3.3.5/share/hadoop/common/lib/commons-daemon-1.0.13.jar:/content/hadoop-3.3.5/share/hadoop/common/lib/netty-handler-4.1.77.Final.jar:/content/hadoop-3.3.5/share/hadoop/common/lib/checker-qual-2.5.2.jar:/content/hadoop-3.3.5/share/hadoop/common/lib/kerby-util-1.0.1.jar:/content/hadoop-3.3.5/share/hadoop/common/lib/commons-lang3-3.12.0.jar:/content/hadoop-3.3.5/share/hadoop/common/lib/netty-codec-haproxy-4.1.77.Final.jar:/content/hadoop-3.3.5/share/hadoop/common/lib/jetty-server-9.4.48.v20220622.jar:/content/hadoop-3.3.5/share/hadoop/common/lib/snappy-java-1.1.8.2.jar:/content/hadoop-3.3.5/share/hadoop/common/lib/listenablefuture-9999.0-empty-to-avoid-conflict-with-guava.jar:/content/hadoop-3.3.5/share/hadoop/common/lib/commons-logging-1.1.3.jar:/content/hadoop-3.3.5/share/hadoop/common/lib/jetty-webapp-9.4.48.v20220622.jar:/content/hadoop-3.3.5/share/hadoop/common/lib/netty-transport-rxtx-4.1.77.Final.jar:/content/hadoop-3.3.5/share/hadoop/common/lib/hadoop-auth-3.3.5.jar:/content/hadoop-3.3.5/share/hadoop/common/lib/commons-collections-3.2.2.jar:/content/hadoop-3.3.5/share/hadoop/common/lib/jetty-util-9.4.48.v20220622.jar:/content/hadoop-3.3.5/share/hadoop/common/lib/audience-annotations-0.5.0.jar:/content/hadoop-3.3.5/share/hadoop/common/lib/netty-transport-native-kqueue-4.1.77.Final-osx-x86_64.jar:/content/hadoop-3.3.5/share/hadoop/common/lib/kerb-server-1.0.1.jar:/content/hadoop-3.3.5/share/hadoop/common/lib/jetty-security-9.4.48.v20220622.jar:/content/hadoop-3.3.5/share/hadoop/common/lib/asm-5.0.4.jar:/content/hadoop-3.3.5/share/hadoop/common/lib/kerb-admin-1.0.1.jar:/content/hadoop-3.3.5/share/hadoop/common/lib/jersey-core-1.19.4.jar:/content/hadoop-3.3.5/share/hadoop/common/lib/netty-resolver-4.1.77.Final.jar:/content/hadoop-3.3.5/share/hadoop/common/lib/commons-codec-1.15.jar:/content/hadoop-3.3.5/share/hadoop/common/lib/netty-codec-dns-4.1.77.Final.jar:/content/hadoop-3.3.5/share/hadoop/common/lib/netty-transport-native-kqueue-4.1.77.Final-osx-aarch_64.jar:/content/hadoop-3.3.5/share/hadoop/common/lib/gson-2.9.0.jar:/content/hadoop-3.3.5/share/hadoop/common/lib/jackson-databind-2.12.7.1.jar:/content/hadoop-3.3.5/share/hadoop/common/lib/kerb-simplekdc-1.0.1.jar:/content/hadoop-3.3.5/share/hadoop/common/lib/netty-codec-smtp-4.1.77.Final.jar:/content/hadoop-3.3.5/share/hadoop/common/lib/nimbus-jose-jwt-9.8.1.jar:/content/hadoop-3.3.5/share/hadoop/common/lib/netty-codec-redis-4.1.77.Final.jar:/content/hadoop-3.3.5/share/hadoop/common/lib/netty-codec-http-4.1.77.Final.jar:/content/hadoop-3.3.5/share/hadoop/common/lib/curator-recipes-4.2.0.jar:/content/hadoop-3.3.5/share/hadoop/common/lib/commons-cli-1.2.jar:/content/hadoop-3.3.5/share/hadoop/common/lib/jsp-api-2.1.jar:/content/hadoop-3.3.5/share/hadoop/common/lib/slf4j-reload4j-1.7.36.jar:/content/hadoop-3.3.5/share/hadoop/common/lib/animal-sniffer-annotations-1.17.jar:/content/hadoop-3.3.5/share/hadoop/common/lib/jackson-core-asl-1.9.13.jar:/content/hadoop-3.3.5/share/hadoop/common/lib/commons-text-1.10.0.jar:/content/hadoop-3.3.5/share/hadoop/common/lib/httpcore-4.4.13.jar:/content/hadoop-3.3.5/share/hadoop/common/lib/commons-compress-1.21.jar:/content/hadoop-3.3.5/share/hadoop/common/lib/hadoop-shaded-protobuf_3_7-1.1.1.jar:/content/hadoop-3.3.5/share/hadoop/common/lib/commons-beanutils-1.9.4.jar:/content/hadoop-3.3.5/share/hadoop/common/lib/jersey-server-1.19.4.jar:/content/hadoop-3.3.5/share/hadoop/common/lib/jetty-io-9.4.48.v20220622.jar:/content/hadoop-3.3.5/share/hadoop/common/lib/jaxb-impl-2.2.3-1.jar:/content/hadoop-3.3.5/share/hadoop/common/lib/jetty-servlet-9.4.48.v20220622.jar:/content/hadoop-3.3.5/share/hadoop/common/lib/commons-configuration2-2.8.0.jar:/content/hadoop-3.3.5/share/hadoop/common/lib/netty-transport-classes-kqueue-4.1.77.Final.jar:/content/hadoop-3.3.5/share/hadoop/common/lib/jackson-mapper-asl-1.9.13.jar:/content/hadoop-3.3.5/share/hadoop/common/lib/woodstox-core-5.4.0.jar:/content/hadoop-3.3.5/share/hadoop/common/lib/kerb-client-1.0.1.jar:/content/hadoop-3.3.5/share/hadoop/common/lib/netty-resolver-dns-4.1.77.Final.jar:/content/hadoop-3.3.5/share/hadoop/common/lib/netty-codec-stomp-4.1.77.Final.jar:/content/hadoop-3.3.5/share/hadoop/common/lib/jetty-xml-9.4.48.v20220622.jar:/content/hadoop-3.3.5/share/hadoop/common/lib/netty-transport-native-epoll-4.1.77.Final-linux-x86_64.jar:/content/hadoop-3.3.5/share/hadoop/common/lib/netty-codec-socks-4.1.77.Final.jar:/content/hadoop-3.3.5/share/hadoop/common/lib/kerb-crypto-1.0.1.jar:/content/hadoop-3.3.5/share/hadoop/common/lib/jersey-servlet-1.19.4.jar:/content/hadoop-3.3.5/share/hadoop/common/lib/failureaccess-1.0.jar:/content/hadoop-3.3.5/share/hadoop/common/lib/jakarta.activation-api-1.2.1.jar:/content/hadoop-3.3.5/share/hadoop/common/lib/jsch-0.1.55.jar:/content/hadoop-3.3.5/share/hadoop/common/lib/netty-transport-sctp-4.1.77.Final.jar:/content/hadoop-3.3.5/share/hadoop/common/lib/netty-all-4.1.77.Final.jar:/content/hadoop-3.3.5/share/hadoop/common/lib/kerby-config-1.0.1.jar:/content/hadoop-3.3.5/share/hadoop/common/lib/dnsjava-2.1.7.jar:/content/hadoop-3.3.5/share/hadoop/common/lib/commons-math3-3.1.1.jar:/content/hadoop-3.3.5/share/hadoop/common/lib/netty-transport-udt-4.1.77.Final.jar:/content/hadoop-3.3.5/share/hadoop/common/lib/avro-1.7.7.jar:/content/hadoop-3.3.5/share/hadoop/common/lib/protobuf-java-2.5.0.jar:/content/hadoop-3.3.5/share/hadoop/common/lib/jsr311-api-1.1.1.jar:/content/hadoop-3.3.5/share/hadoop/common/lib/commons-net-3.9.0.jar:/content/hadoop-3.3.5/share/hadoop/common/lib/zookeeper-jute-3.5.6.jar:/content/hadoop-3.3.5/share/hadoop/common/lib/curator-client-4.2.0.jar:/content/hadoop-3.3.5/share/hadoop/common/lib/json-smart-2.4.7.jar:/content/hadoop-3.3.5/share/hadoop/common/lib/kerby-xdr-1.0.1.jar:/content/hadoop-3.3.5/share/hadoop/common/lib/netty-transport-native-epoll-4.1.77.Final-linux-aarch_64.jar:/content/hadoop-3.3.5/share/hadoop/common/lib/token-provider-1.0.1.jar:/content/hadoop-3.3.5/share/hadoop/common/lib/netty-resolver-dns-native-macos-4.1.77.Final-osx-x86_64.jar:/content/hadoop-3.3.5/share/hadoop/common/lib/paranamer-2.3.jar:/content/hadoop-3.3.5/share/hadoop/common/lib/zookeeper-3.5.6.jar:/content/hadoop-3.3.5/share/hadoop/common/lib/metrics-core-3.2.4.jar:/content/hadoop-3.3.5/share/hadoop/common/lib/netty-transport-classes-epoll-4.1.77.Final.jar:/content/hadoop-3.3.5/share/hadoop/common/lib/jul-to-slf4j-1.7.36.jar:/content/hadoop-3.3.5/share/hadoop/common/lib/netty-buffer-4.1.77.Final.jar:/content/hadoop-3.3.5/share/hadoop/common/lib/jetty-util-ajax-9.4.48.v20220622.jar:/content/hadoop-3.3.5/share/hadoop/common/lib/jsr305-3.0.2.jar:/content/hadoop-3.3.5/share/hadoop/common/lib/guava-27.0-jre.jar:/content/hadoop-3.3.5/share/hadoop/common/lib/netty-codec-4.1.77.Final.jar:/content/hadoop-3.3.5/share/hadoop/common/lib/kerby-pkix-1.0.1.jar:/content/hadoop-3.3.5/share/hadoop/common/lib/curator-framework-4.2.0.jar:/content/hadoop-3.3.5/share/hadoop/common/lib/re2j-1.1.jar:/content/hadoop-3.3.5/share/hadoop/common/lib/jersey-json-1.20.jar:/content/hadoop-3.3.5/share/hadoop/common/lib/netty-resolver-dns-classes-macos-4.1.77.Final.jar:/content/hadoop-3.3.5/share/hadoop/common/lib/netty-common-4.1.77.Final.jar:/content/hadoop-3.3.5/share/hadoop/common/lib/kerby-asn1-1.0.1.jar:/content/hadoop-3.3.5/share/hadoop/common/lib/jaxb-api-2.2.11.jar:/content/hadoop-3.3.5/share/hadoop/common/lib/stax2-api-4.2.1.jar:/content/hadoop-3.3.5/share/hadoop/common/lib/kerb-common-1.0.1.jar:/content/hadoop-3.3.5/share/hadoop/common/lib/httpclient-4.5.13.jar:/content/hadoop-3.3.5/share/hadoop/common/hadoop-nfs-3.3.5.jar:/content/hadoop-3.3.5/share/hadoop/common/hadoop-registry-3.3.5.jar:/content/hadoop-3.3.5/share/hadoop/common/hadoop-common-3.3.5.jar:/content/hadoop-3.3.5/share/hadoop/common/hadoop-common-3.3.5-tests.jar:/content/hadoop-3.3.5/share/hadoop/common/hadoop-kms-3.3.5.jar:/content/hadoop-3.3.5/share/hadoop/hdfs:/content/hadoop-3.3.5/share/hadoop/hdfs/lib/kerb-identity-1.0.1.jar:/content/hadoop-3.3.5/share/hadoop/hdfs/lib/netty-transport-4.1.77.Final.jar:/content/hadoop-3.3.5/share/hadoop/hdfs/lib/reload4j-1.2.22.jar:/content/hadoop-3.3.5/share/hadoop/hdfs/lib/netty-codec-mqtt-4.1.77.Final.jar:/content/hadoop-3.3.5/share/hadoop/hdfs/lib/netty-handler-proxy-4.1.77.Final.jar:/content/hadoop-3.3.5/share/hadoop/hdfs/lib/netty-3.10.6.Final.jar:/content/hadoop-3.3.5/share/hadoop/hdfs/lib/jettison-1.5.3.jar:/content/hadoop-3.3.5/share/hadoop/hdfs/lib/jetty-http-9.4.48.v20220622.jar:/content/hadoop-3.3.5/share/hadoop/hdfs/lib/netty-codec-http2-4.1.77.Final.jar:/content/hadoop-3.3.5/share/hadoop/hdfs/lib/kerb-core-1.0.1.jar:/content/hadoop-3.3.5/share/hadoop/hdfs/lib/javax.servlet-api-3.1.0.jar:/content/hadoop-3.3.5/share/hadoop/hdfs/lib/hadoop-annotations-3.3.5.jar:/content/hadoop-3.3.5/share/hadoop/hdfs/lib/netty-transport-native-unix-common-4.1.77.Final.jar:/content/hadoop-3.3.5/share/hadoop/hdfs/lib/netty-codec-xml-4.1.77.Final.jar:/content/hadoop-3.3.5/share/hadoop/hdfs/lib/jackson-annotations-2.12.7.jar:/content/hadoop-3.3.5/share/hadoop/hdfs/lib/accessors-smart-2.4.7.jar:/content/hadoop-3.3.5/share/hadoop/hdfs/lib/kerb-util-1.0.1.jar:/content/hadoop-3.3.5/share/hadoop/hdfs/lib/hadoop-shaded-guava-1.1.1.jar:/content/hadoop-3.3.5/share/hadoop/hdfs/lib/j2objc-annotations-1.1.jar:/content/hadoop-3.3.5/share/hadoop/hdfs/lib/jackson-core-2.12.7.jar:/content/hadoop-3.3.5/share/hadoop/hdfs/lib/jcip-annotations-1.0-1.jar:/content/hadoop-3.3.5/share/hadoop/hdfs/lib/commons-io-2.8.0.jar:/content/hadoop-3.3.5/share/hadoop/hdfs/lib/netty-resolver-dns-native-macos-4.1.77.Final-osx-aarch_64.jar:/content/hadoop-3.3.5/share/hadoop/hdfs/lib/netty-codec-memcache-4.1.77.Final.jar:/content/hadoop-3.3.5/share/hadoop/hdfs/lib/commons-daemon-1.0.13.jar:/content/hadoop-3.3.5/share/hadoop/hdfs/lib/netty-handler-4.1.77.Final.jar:/content/hadoop-3.3.5/share/hadoop/hdfs/lib/checker-qual-2.5.2.jar:/content/hadoop-3.3.5/share/hadoop/hdfs/lib/kerby-util-1.0.1.jar:/content/hadoop-3.3.5/share/hadoop/hdfs/lib/commons-lang3-3.12.0.jar:/content/hadoop-3.3.5/share/hadoop/hdfs/lib/netty-codec-haproxy-4.1.77.Final.jar:/content/hadoop-3.3.5/share/hadoop/hdfs/lib/jetty-server-9.4.48.v20220622.jar:/content/hadoop-3.3.5/share/hadoop/hdfs/lib/snappy-java-1.1.8.2.jar:/content/hadoop-3.3.5/share/hadoop/hdfs/lib/listenablefuture-9999.0-empty-to-avoid-conflict-with-guava.jar:/content/hadoop-3.3.5/share/hadoop/hdfs/lib/commons-logging-1.1.3.jar:/content/hadoop-3.3.5/share/hadoop/hdfs/lib/jetty-webapp-9.4.48.v20220622.jar:/content/hadoop-3.3.5/share/hadoop/hdfs/lib/netty-transport-rxtx-4.1.77.Final.jar:/content/hadoop-3.3.5/share/hadoop/hdfs/lib/kotlin-stdlib-1.4.10.jar:/content/hadoop-3.3.5/share/hadoop/hdfs/lib/hadoop-auth-3.3.5.jar:/content/hadoop-3.3.5/share/hadoop/hdfs/lib/commons-collections-3.2.2.jar:/content/hadoop-3.3.5/share/hadoop/hdfs/lib/jetty-util-9.4.48.v20220622.jar:/content/hadoop-3.3.5/share/hadoop/hdfs/lib/leveldbjni-all-1.8.jar:/content/hadoop-3.3.5/share/hadoop/hdfs/lib/audience-annotations-0.5.0.jar:/content/hadoop-3.3.5/share/hadoop/hdfs/lib/netty-transport-native-kqueue-4.1.77.Final-osx-x86_64.jar:/content/hadoop-3.3.5/share/hadoop/hdfs/lib/kerb-server-1.0.1.jar:/content/hadoop-3.3.5/share/hadoop/hdfs/lib/jetty-security-9.4.48.v20220622.jar:/content/hadoop-3.3.5/share/hadoop/hdfs/lib/asm-5.0.4.jar:/content/hadoop-3.3.5/share/hadoop/hdfs/lib/kerb-admin-1.0.1.jar:/content/hadoop-3.3.5/share/hadoop/hdfs/lib/jersey-core-1.19.4.jar:/content/hadoop-3.3.5/share/hadoop/hdfs/lib/netty-resolver-4.1.77.Final.jar:/content/hadoop-3.3.5/share/hadoop/hdfs/lib/commons-codec-1.15.jar:/content/hadoop-3.3.5/share/hadoop/hdfs/lib/netty-codec-dns-4.1.77.Final.jar:/content/hadoop-3.3.5/share/hadoop/hdfs/lib/netty-transport-native-kqueue-4.1.77.Final-osx-aarch_64.jar:/content/hadoop-3.3.5/share/hadoop/hdfs/lib/gson-2.9.0.jar:/content/hadoop-3.3.5/share/hadoop/hdfs/lib/jackson-databind-2.12.7.1.jar:/content/hadoop-3.3.5/share/hadoop/hdfs/lib/kerb-simplekdc-1.0.1.jar:/content/hadoop-3.3.5/share/hadoop/hdfs/lib/netty-codec-smtp-4.1.77.Final.jar:/content/hadoop-3.3.5/share/hadoop/hdfs/lib/nimbus-jose-jwt-9.8.1.jar:/content/hadoop-3.3.5/share/hadoop/hdfs/lib/netty-codec-redis-4.1.77.Final.jar:/content/hadoop-3.3.5/share/hadoop/hdfs/lib/netty-codec-http-4.1.77.Final.jar:/content/hadoop-3.3.5/share/hadoop/hdfs/lib/curator-recipes-4.2.0.jar:/content/hadoop-3.3.5/share/hadoop/hdfs/lib/commons-cli-1.2.jar:/content/hadoop-3.3.5/share/hadoop/hdfs/lib/json-simple-1.1.1.jar:/content/hadoop-3.3.5/share/hadoop/hdfs/lib/kotlin-stdlib-common-1.4.10.jar:/content/hadoop-3.3.5/share/hadoop/hdfs/lib/animal-sniffer-annotations-1.17.jar:/content/hadoop-3.3.5/share/hadoop/hdfs/lib/jackson-core-asl-1.9.13.jar:/content/hadoop-3.3.5/share/hadoop/hdfs/lib/commons-text-1.10.0.jar:/content/hadoop-3.3.5/share/hadoop/hdfs/lib/httpcore-4.4.13.jar:/content/hadoop-3.3.5/share/hadoop/hdfs/lib/commons-compress-1.21.jar:/content/hadoop-3.3.5/share/hadoop/hdfs/lib/hadoop-shaded-protobuf_3_7-1.1.1.jar:/content/hadoop-3.3.5/share/hadoop/hdfs/lib/okhttp-4.9.3.jar:/content/hadoop-3.3.5/share/hadoop/hdfs/lib/commons-beanutils-1.9.4.jar:/content/hadoop-3.3.5/share/hadoop/hdfs/lib/jersey-server-1.19.4.jar:/content/hadoop-3.3.5/share/hadoop/hdfs/lib/jetty-io-9.4.48.v20220622.jar:/content/hadoop-3.3.5/share/hadoop/hdfs/lib/jaxb-impl-2.2.3-1.jar:/content/hadoop-3.3.5/share/hadoop/hdfs/lib/jetty-servlet-9.4.48.v20220622.jar:/content/hadoop-3.3.5/share/hadoop/hdfs/lib/commons-configuration2-2.8.0.jar:/content/hadoop-3.3.5/share/hadoop/hdfs/lib/netty-transport-classes-kqueue-4.1.77.Final.jar:/content/hadoop-3.3.5/share/hadoop/hdfs/lib/jackson-mapper-asl-1.9.13.jar:/content/hadoop-3.3.5/share/hadoop/hdfs/lib/woodstox-core-5.4.0.jar:/content/hadoop-3.3.5/share/hadoop/hdfs/lib/kerb-client-1.0.1.jar:/content/hadoop-3.3.5/share/hadoop/hdfs/lib/netty-resolver-dns-4.1.77.Final.jar:/content/hadoop-3.3.5/share/hadoop/hdfs/lib/netty-codec-stomp-4.1.77.Final.jar:/content/hadoop-3.3.5/share/hadoop/hdfs/lib/jetty-xml-9.4.48.v20220622.jar:/content/hadoop-3.3.5/share/hadoop/hdfs/lib/netty-transport-native-epoll-4.1.77.Final-linux-x86_64.jar:/content/hadoop-3.3.5/share/hadoop/hdfs/lib/netty-codec-socks-4.1.77.Final.jar:/content/hadoop-3.3.5/share/hadoop/hdfs/lib/kerb-crypto-1.0.1.jar:/content/hadoop-3.3.5/share/hadoop/hdfs/lib/jersey-servlet-1.19.4.jar:/content/hadoop-3.3.5/share/hadoop/hdfs/lib/failureaccess-1.0.jar:/content/hadoop-3.3.5/share/hadoop/hdfs/lib/jakarta.activation-api-1.2.1.jar:/content/hadoop-3.3.5/share/hadoop/hdfs/lib/jsch-0.1.55.jar:/content/hadoop-3.3.5/share/hadoop/hdfs/lib/netty-transport-sctp-4.1.77.Final.jar:/content/hadoop-3.3.5/share/hadoop/hdfs/lib/netty-all-4.1.77.Final.jar:/content/hadoop-3.3.5/share/hadoop/hdfs/lib/kerby-config-1.0.1.jar:/content/hadoop-3.3.5/share/hadoop/hdfs/lib/dnsjava-2.1.7.jar:/content/hadoop-3.3.5/share/hadoop/hdfs/lib/commons-math3-3.1.1.jar:/content/hadoop-3.3.5/share/hadoop/hdfs/lib/netty-transport-udt-4.1.77.Final.jar:/content/hadoop-3.3.5/share/hadoop/hdfs/lib/avro-1.7.7.jar:/content/hadoop-3.3.5/share/hadoop/hdfs/lib/protobuf-java-2.5.0.jar:/content/hadoop-3.3.5/share/hadoop/hdfs/lib/jsr311-api-1.1.1.jar:/content/hadoop-3.3.5/share/hadoop/hdfs/lib/commons-net-3.9.0.jar:/content/hadoop-3.3.5/share/hadoop/hdfs/lib/zookeeper-jute-3.5.6.jar:/content/hadoop-3.3.5/share/hadoop/hdfs/lib/curator-client-4.2.0.jar:/content/hadoop-3.3.5/share/hadoop/hdfs/lib/json-smart-2.4.7.jar:/content/hadoop-3.3.5/share/hadoop/hdfs/lib/kerby-xdr-1.0.1.jar:/content/hadoop-3.3.5/share/hadoop/hdfs/lib/netty-transport-native-epoll-4.1.77.Final-linux-aarch_64.jar:/content/hadoop-3.3.5/share/hadoop/hdfs/lib/token-provider-1.0.1.jar:/content/hadoop-3.3.5/share/hadoop/hdfs/lib/netty-resolver-dns-native-macos-4.1.77.Final-osx-x86_64.jar:/content/hadoop-3.3.5/share/hadoop/hdfs/lib/okio-2.8.0.jar:/content/hadoop-3.3.5/share/hadoop/hdfs/lib/paranamer-2.3.jar:/content/hadoop-3.3.5/share/hadoop/hdfs/lib/zookeeper-3.5.6.jar:/content/hadoop-3.3.5/share/hadoop/hdfs/lib/netty-transport-classes-epoll-4.1.77.Final.jar:/content/hadoop-3.3.5/share/hadoop/hdfs/lib/netty-buffer-4.1.77.Final.jar:/content/hadoop-3.3.5/share/hadoop/hdfs/lib/jetty-util-ajax-9.4.48.v20220622.jar:/content/hadoop-3.3.5/share/hadoop/hdfs/lib/jsr305-3.0.2.jar:/content/hadoop-3.3.5/share/hadoop/hdfs/lib/guava-27.0-jre.jar:/content/hadoop-3.3.5/share/hadoop/hdfs/lib/netty-codec-4.1.77.Final.jar:/content/hadoop-3.3.5/share/hadoop/hdfs/lib/kerby-pkix-1.0.1.jar:/content/hadoop-3.3.5/share/hadoop/hdfs/lib/curator-framework-4.2.0.jar:/content/hadoop-3.3.5/share/hadoop/hdfs/lib/re2j-1.1.jar:/content/hadoop-3.3.5/share/hadoop/hdfs/lib/jersey-json-1.20.jar:/content/hadoop-3.3.5/share/hadoop/hdfs/lib/netty-resolver-dns-classes-macos-4.1.77.Final.jar:/content/hadoop-3.3.5/share/hadoop/hdfs/lib/netty-common-4.1.77.Final.jar:/content/hadoop-3.3.5/share/hadoop/hdfs/lib/kerby-asn1-1.0.1.jar:/content/hadoop-3.3.5/share/hadoop/hdfs/lib/jaxb-api-2.2.11.jar:/content/hadoop-3.3.5/share/hadoop/hdfs/lib/stax2-api-4.2.1.jar:/content/hadoop-3.3.5/share/hadoop/hdfs/lib/kerb-common-1.0.1.jar:/content/hadoop-3.3.5/share/hadoop/hdfs/lib/httpclient-4.5.13.jar:/content/hadoop-3.3.5/share/hadoop/hdfs/hadoop-hdfs-client-3.3.5-tests.jar:/content/hadoop-3.3.5/share/hadoop/hdfs/hadoop-hdfs-native-client-3.3.5-tests.jar:/content/hadoop-3.3.5/share/hadoop/hdfs/hadoop-hdfs-3.3.5.jar:/content/hadoop-3.3.5/share/hadoop/hdfs/hadoop-hdfs-httpfs-3.3.5.jar:/content/hadoop-3.3.5/share/hadoop/hdfs/hadoop-hdfs-rbf-3.3.5.jar:/content/hadoop-3.3.5/share/hadoop/hdfs/hadoop-hdfs-nfs-3.3.5.jar:/content/hadoop-3.3.5/share/hadoop/hdfs/hadoop-hdfs-rbf-3.3.5-tests.jar:/content/hadoop-3.3.5/share/hadoop/hdfs/hadoop-hdfs-native-client-3.3.5.jar:/content/hadoop-3.3.5/share/hadoop/hdfs/hadoop-hdfs-client-3.3.5.jar:/content/hadoop-3.3.5/share/hadoop/hdfs/hadoop-hdfs-3.3.5-tests.jar:/content/hadoop-3.3.5/share/hadoop/mapreduce/hadoop-mapreduce-client-app-3.3.5.jar:/content/hadoop-3.3.5/share/hadoop/mapreduce/hadoop-mapreduce-client-core-3.3.5.jar:/content/hadoop-3.3.5/share/hadoop/mapreduce/hadoop-mapreduce-client-hs-3.3.5.jar:/content/hadoop-3.3.5/share/hadoop/mapreduce/hadoop-mapreduce-client-common-3.3.5.jar:/content/hadoop-3.3.5/share/hadoop/mapreduce/hadoop-mapreduce-client-hs-plugins-3.3.5.jar:/content/hadoop-3.3.5/share/hadoop/mapreduce/hadoop-mapreduce-client-uploader-3.3.5.jar:/content/hadoop-3.3.5/share/hadoop/mapreduce/hadoop-mapreduce-examples-3.3.5.jar:/content/hadoop-3.3.5/share/hadoop/mapreduce/hadoop-mapreduce-client-shuffle-3.3.5.jar:/content/hadoop-3.3.5/share/hadoop/mapreduce/hadoop-mapreduce-client-jobclient-3.3.5-tests.jar:/content/hadoop-3.3.5/share/hadoop/mapreduce/hadoop-mapreduce-client-jobclient-3.3.5.jar:/content/hadoop-3.3.5/share/hadoop/mapreduce/hadoop-mapreduce-client-nativetask-3.3.5.jar:/content/hadoop-3.3.5/share/hadoop/yarn:/content/hadoop-3.3.5/share/hadoop/yarn/lib/jna-5.2.0.jar:/content/hadoop-3.3.5/share/hadoop/yarn/lib/guice-4.0.jar:/content/hadoop-3.3.5/share/hadoop/yarn/lib/websocket-server-9.4.48.v20220622.jar:/content/hadoop-3.3.5/share/hadoop/yarn/lib/java-util-1.9.0.jar:/content/hadoop-3.3.5/share/hadoop/yarn/lib/jackson-jaxrs-base-2.12.7.jar:/content/hadoop-3.3.5/share/hadoop/yarn/lib/jakarta.xml.bind-api-2.3.2.jar:/content/hadoop-3.3.5/share/hadoop/yarn/lib/json-io-2.5.1.jar:/content/hadoop-3.3.5/share/hadoop/yarn/lib/jersey-client-1.19.4.jar:/content/hadoop-3.3.5/share/hadoop/yarn/lib/jetty-jndi-9.4.48.v20220622.jar:/content/hadoop-3.3.5/share/hadoop/yarn/lib/javax.websocket-api-1.0.jar:/content/hadoop-3.3.5/share/hadoop/yarn/lib/websocket-api-9.4.48.v20220622.jar:/content/hadoop-3.3.5/share/hadoop/yarn/lib/javax-websocket-client-impl-9.4.48.v20220622.jar:/content/hadoop-3.3.5/share/hadoop/yarn/lib/jetty-annotations-9.4.48.v20220622.jar:/content/hadoop-3.3.5/share/hadoop/yarn/lib/websocket-client-9.4.48.v20220622.jar:/content/hadoop-3.3.5/share/hadoop/yarn/lib/javax.inject-1.jar:/content/hadoop-3.3.5/share/hadoop/yarn/lib/websocket-servlet-9.4.48.v20220622.jar:/content/hadoop-3.3.5/share/hadoop/yarn/lib/websocket-common-9.4.48.v20220622.jar:/content/hadoop-3.3.5/share/hadoop/yarn/lib/asm-analysis-9.3.jar:/content/hadoop-3.3.5/share/hadoop/yarn/lib/jetty-client-9.4.48.v20220622.jar:/content/hadoop-3.3.5/share/hadoop/yarn/lib/bcpkix-jdk15on-1.68.jar:/content/hadoop-3.3.5/share/hadoop/yarn/lib/jackson-module-jaxb-annotations-2.12.7.jar:/content/hadoop-3.3.5/share/hadoop/yarn/lib/objenesis-2.6.jar:/content/hadoop-3.3.5/share/hadoop/yarn/lib/bcprov-jdk15on-1.68.jar:/content/hadoop-3.3.5/share/hadoop/yarn/lib/asm-commons-9.3.jar:/content/hadoop-3.3.5/share/hadoop/yarn/lib/ehcache-3.3.1.jar:/content/hadoop-3.3.5/share/hadoop/yarn/lib/swagger-annotations-1.5.4.jar:/content/hadoop-3.3.5/share/hadoop/yarn/lib/snakeyaml-1.32.jar:/content/hadoop-3.3.5/share/hadoop/yarn/lib/javax-websocket-server-impl-9.4.48.v20220622.jar:/content/hadoop-3.3.5/share/hadoop/yarn/lib/jline-3.9.0.jar:/content/hadoop-3.3.5/share/hadoop/yarn/lib/HikariCP-java7-2.4.12.jar:/content/hadoop-3.3.5/share/hadoop/yarn/lib/asm-tree-9.3.jar:/content/hadoop-3.3.5/share/hadoop/yarn/lib/jetty-plus-9.4.48.v20220622.jar:/content/hadoop-3.3.5/share/hadoop/yarn/lib/javax.websocket-client-api-1.0.jar:/content/hadoop-3.3.5/share/hadoop/yarn/lib/metrics-core-3.2.4.jar:/content/hadoop-3.3.5/share/hadoop/yarn/lib/jackson-jaxrs-json-provider-2.12.7.jar:/content/hadoop-3.3.5/share/hadoop/yarn/lib/geronimo-jcache_1.0_spec-1.0-alpha-1.jar:/content/hadoop-3.3.5/share/hadoop/yarn/lib/guice-servlet-4.0.jar:/content/hadoop-3.3.5/share/hadoop/yarn/lib/fst-2.50.jar:/content/hadoop-3.3.5/share/hadoop/yarn/lib/jersey-guice-1.19.4.jar:/content/hadoop-3.3.5/share/hadoop/yarn/lib/aopalliance-1.0.jar:/content/hadoop-3.3.5/share/hadoop/yarn/lib/mssql-jdbc-6.2.1.jre7.jar:/content/hadoop-3.3.5/share/hadoop/yarn/hadoop-yarn-common-3.3.5.jar:/content/hadoop-3.3.5/share/hadoop/yarn/hadoop-yarn-registry-3.3.5.jar:/content/hadoop-3.3.5/share/hadoop/yarn/hadoop-yarn-services-core-3.3.5.jar:/content/hadoop-3.3.5/share/hadoop/yarn/hadoop-yarn-server-nodemanager-3.3.5.jar:/content/hadoop-3.3.5/share/hadoop/yarn/hadoop-yarn-applications-distributedshell-3.3.5.jar:/content/hadoop-3.3.5/share/hadoop/yarn/hadoop-yarn-applications-unmanaged-am-launcher-3.3.5.jar:/content/hadoop-3.3.5/share/hadoop/yarn/hadoop-yarn-server-tests-3.3.5.jar:/content/hadoop-3.3.5/share/hadoop/yarn/hadoop-yarn-server-applicationhistoryservice-3.3.5.jar:/content/hadoop-3.3.5/share/hadoop/yarn/hadoop-yarn-client-3.3.5.jar:/content/hadoop-3.3.5/share/hadoop/yarn/hadoop-yarn-server-timeline-pluginstorage-3.3.5.jar:/content/hadoop-3.3.5/share/hadoop/yarn/hadoop-yarn-server-resourcemanager-3.3.5.jar:/content/hadoop-3.3.5/share/hadoop/yarn/hadoop-yarn-services-api-3.3.5.jar:/content/hadoop-3.3.5/share/hadoop/yarn/hadoop-yarn-server-web-proxy-3.3.5.jar:/content/hadoop-3.3.5/share/hadoop/yarn/hadoop-yarn-applications-mawo-core-3.3.5.jar:/content/hadoop-3.3.5/share/hadoop/yarn/hadoop-yarn-server-router-3.3.5.jar:/content/hadoop-3.3.5/share/hadoop/yarn/hadoop-yarn-server-sharedcachemanager-3.3.5.jar:/content/hadoop-3.3.5/share/hadoop/yarn/hadoop-yarn-api-3.3.5.jar:/content/hadoop-3.3.5/share/hadoop/yarn/hadoop-yarn-server-common-3.3.5.jar\n",
            "STARTUP_MSG:   build = https://github.com/apache/hadoop.git -r 706d88266abcee09ed78fbaa0ad5f74d818ab0e9; compiled by 'stevel' on 2023-03-15T15:56Z\n",
            "STARTUP_MSG:   java = 1.8.0_432\n",
            "************************************************************/\n",
            "2024-12-03 19:09:02,877 INFO namenode.NameNode: registered UNIX signal handlers for [TERM, HUP, INT]\n",
            "2024-12-03 19:09:03,095 INFO namenode.NameNode: createNameNode [-format]\n",
            "2024-12-03 19:09:03,876 INFO namenode.NameNode: Formatting using clusterid: CID-cb12210e-c50c-46a3-8039-917b47e38268\n",
            "2024-12-03 19:09:03,949 INFO namenode.FSEditLog: Edit logging is async:true\n",
            "2024-12-03 19:09:03,994 INFO namenode.FSNamesystem: KeyProvider: null\n",
            "2024-12-03 19:09:03,997 INFO namenode.FSNamesystem: fsLock is fair: true\n",
            "2024-12-03 19:09:03,999 INFO namenode.FSNamesystem: Detailed lock hold time metrics enabled: false\n",
            "2024-12-03 19:09:04,010 INFO namenode.FSNamesystem: fsOwner                = root (auth:SIMPLE)\n",
            "2024-12-03 19:09:04,010 INFO namenode.FSNamesystem: supergroup             = supergroup\n",
            "2024-12-03 19:09:04,010 INFO namenode.FSNamesystem: isPermissionEnabled    = true\n",
            "2024-12-03 19:09:04,010 INFO namenode.FSNamesystem: isStoragePolicyEnabled = true\n",
            "2024-12-03 19:09:04,011 INFO namenode.FSNamesystem: HA Enabled: false\n",
            "2024-12-03 19:09:04,099 INFO common.Util: dfs.datanode.fileio.profiling.sampling.percentage set to 0. Disabling file IO profiling\n",
            "2024-12-03 19:09:04,295 INFO blockmanagement.DatanodeManager: dfs.block.invalidate.limit : configured=1000, counted=60, effected=1000\n",
            "2024-12-03 19:09:04,296 INFO blockmanagement.DatanodeManager: dfs.namenode.datanode.registration.ip-hostname-check=true\n",
            "2024-12-03 19:09:04,302 INFO blockmanagement.BlockManager: dfs.namenode.startup.delay.block.deletion.sec is set to 000:00:00:00.000\n",
            "2024-12-03 19:09:04,302 INFO blockmanagement.BlockManager: The block deletion will start around 2024 Dec 03 19:09:04\n",
            "2024-12-03 19:09:04,306 INFO util.GSet: Computing capacity for map BlocksMap\n",
            "2024-12-03 19:09:04,306 INFO util.GSet: VM type       = 64-bit\n",
            "2024-12-03 19:09:04,309 INFO util.GSet: 2.0% max memory 2.8 GB = 57.7 MB\n",
            "2024-12-03 19:09:04,309 INFO util.GSet: capacity      = 2^23 = 8388608 entries\n",
            "2024-12-03 19:09:04,344 INFO blockmanagement.BlockManager: Storage policy satisfier is disabled\n",
            "2024-12-03 19:09:04,344 INFO blockmanagement.BlockManager: dfs.block.access.token.enable = false\n",
            "2024-12-03 19:09:04,360 INFO blockmanagement.BlockManagerSafeMode: dfs.namenode.safemode.threshold-pct = 0.999\n",
            "2024-12-03 19:09:04,360 INFO blockmanagement.BlockManagerSafeMode: dfs.namenode.safemode.min.datanodes = 0\n",
            "2024-12-03 19:09:04,360 INFO blockmanagement.BlockManagerSafeMode: dfs.namenode.safemode.extension = 30000\n",
            "2024-12-03 19:09:04,361 INFO blockmanagement.BlockManager: defaultReplication         = 1\n",
            "2024-12-03 19:09:04,361 INFO blockmanagement.BlockManager: maxReplication             = 512\n",
            "2024-12-03 19:09:04,361 INFO blockmanagement.BlockManager: minReplication             = 1\n",
            "2024-12-03 19:09:04,361 INFO blockmanagement.BlockManager: maxReplicationStreams      = 2\n",
            "2024-12-03 19:09:04,361 INFO blockmanagement.BlockManager: redundancyRecheckInterval  = 3000ms\n",
            "2024-12-03 19:09:04,361 INFO blockmanagement.BlockManager: encryptDataTransfer        = false\n",
            "2024-12-03 19:09:04,361 INFO blockmanagement.BlockManager: maxNumBlocksToLog          = 1000\n",
            "2024-12-03 19:09:04,427 INFO namenode.FSDirectory: GLOBAL serial map: bits=29 maxEntries=536870911\n",
            "2024-12-03 19:09:04,427 INFO namenode.FSDirectory: USER serial map: bits=24 maxEntries=16777215\n",
            "2024-12-03 19:09:04,427 INFO namenode.FSDirectory: GROUP serial map: bits=24 maxEntries=16777215\n",
            "2024-12-03 19:09:04,427 INFO namenode.FSDirectory: XATTR serial map: bits=24 maxEntries=16777215\n",
            "2024-12-03 19:09:04,450 INFO util.GSet: Computing capacity for map INodeMap\n",
            "2024-12-03 19:09:04,451 INFO util.GSet: VM type       = 64-bit\n",
            "2024-12-03 19:09:04,451 INFO util.GSet: 1.0% max memory 2.8 GB = 28.9 MB\n",
            "2024-12-03 19:09:04,451 INFO util.GSet: capacity      = 2^22 = 4194304 entries\n",
            "2024-12-03 19:09:04,526 INFO namenode.FSDirectory: ACLs enabled? true\n",
            "2024-12-03 19:09:04,526 INFO namenode.FSDirectory: POSIX ACL inheritance enabled? true\n",
            "2024-12-03 19:09:04,526 INFO namenode.FSDirectory: XAttrs enabled? true\n",
            "2024-12-03 19:09:04,527 INFO namenode.NameNode: Caching file names occurring more than 10 times\n",
            "2024-12-03 19:09:04,539 INFO snapshot.SnapshotManager: Loaded config captureOpenFiles: false, skipCaptureAccessTimeOnlyChange: false, snapshotDiffAllowSnapRootDescendant: true, maxSnapshotLimit: 65536\n",
            "2024-12-03 19:09:04,545 INFO snapshot.SnapshotManager: SkipList is disabled\n",
            "2024-12-03 19:09:04,554 INFO util.GSet: Computing capacity for map cachedBlocks\n",
            "2024-12-03 19:09:04,554 INFO util.GSet: VM type       = 64-bit\n",
            "2024-12-03 19:09:04,555 INFO util.GSet: 0.25% max memory 2.8 GB = 7.2 MB\n",
            "2024-12-03 19:09:04,556 INFO util.GSet: capacity      = 2^20 = 1048576 entries\n",
            "2024-12-03 19:09:04,588 INFO metrics.TopMetrics: NNTop conf: dfs.namenode.top.window.num.buckets = 10\n",
            "2024-12-03 19:09:04,588 INFO metrics.TopMetrics: NNTop conf: dfs.namenode.top.num.users = 10\n",
            "2024-12-03 19:09:04,588 INFO metrics.TopMetrics: NNTop conf: dfs.namenode.top.windows.minutes = 1,5,25\n",
            "2024-12-03 19:09:04,599 INFO namenode.FSNamesystem: Retry cache on namenode is enabled\n",
            "2024-12-03 19:09:04,599 INFO namenode.FSNamesystem: Retry cache will use 0.03 of total heap and retry cache entry expiry time is 600000 millis\n",
            "2024-12-03 19:09:04,603 INFO util.GSet: Computing capacity for map NameNodeRetryCache\n",
            "2024-12-03 19:09:04,603 INFO util.GSet: VM type       = 64-bit\n",
            "2024-12-03 19:09:04,603 INFO util.GSet: 0.029999999329447746% max memory 2.8 GB = 886.4 KB\n",
            "2024-12-03 19:09:04,604 INFO util.GSet: capacity      = 2^17 = 131072 entries\n",
            "Re-format filesystem in Storage Directory root= /tmp/hadoop-root/dfs/name; location= null ? (Y or N) y\n",
            "2024-12-03 19:09:44,723 INFO namenode.FSImage: Allocated new BlockPoolId: BP-112455611-172.28.0.12-1733252984704\n",
            "2024-12-03 19:09:44,723 INFO common.Storage: Will remove files: [/tmp/hadoop-root/dfs/name/current/VERSION, /tmp/hadoop-root/dfs/name/current/seen_txid, /tmp/hadoop-root/dfs/name/current/fsimage_0000000000000000000, /tmp/hadoop-root/dfs/name/current/fsimage_0000000000000000000.md5]\n",
            "2024-12-03 19:09:44,772 INFO common.Storage: Storage directory /tmp/hadoop-root/dfs/name has been successfully formatted.\n",
            "2024-12-03 19:09:45,074 INFO namenode.FSImageFormatProtobuf: Saving image file /tmp/hadoop-root/dfs/name/current/fsimage.ckpt_0000000000000000000 using no compression\n",
            "2024-12-03 19:09:45,281 INFO namenode.FSImageFormatProtobuf: Image file /tmp/hadoop-root/dfs/name/current/fsimage.ckpt_0000000000000000000 of size 399 bytes saved in 0 seconds .\n",
            "2024-12-03 19:09:45,303 INFO namenode.NNStorageRetentionManager: Going to retain 1 images with txid >= 0\n",
            "2024-12-03 19:09:45,378 INFO namenode.FSNamesystem: Stopping services started for active state\n",
            "2024-12-03 19:09:45,383 INFO namenode.FSNamesystem: Stopping services started for standby state\n",
            "2024-12-03 19:09:45,394 INFO namenode.FSImage: FSImageSaver clean checkpoint: txid=0 when meet shutdown.\n",
            "2024-12-03 19:09:45,395 INFO namenode.NameNode: SHUTDOWN_MSG: \n",
            "/************************************************************\n",
            "SHUTDOWN_MSG: Shutting down NameNode at 1b1eb25bf463/172.28.0.12\n",
            "************************************************************/\n"
          ]
        }
      ]
    },
    {
      "cell_type": "code",
      "source": [
        "!/content/hadoop-3.3.5/sbin/hadoop-daemon.sh start namenode"
      ],
      "metadata": {
        "colab": {
          "base_uri": "https://localhost:8080/"
        },
        "id": "b3cnnVp_7QXQ",
        "outputId": "52dff2db-ff97-40e1-db28-06781be893e4"
      },
      "execution_count": 11,
      "outputs": [
        {
          "output_type": "stream",
          "name": "stdout",
          "text": [
            "WARNING: Use of this script to start HDFS daemons is deprecated.\n",
            "WARNING: Attempting to execute replacement \"hdfs --daemon start\" instead.\n"
          ]
        }
      ]
    },
    {
      "cell_type": "code",
      "source": [
        "!/content/hadoop-3.3.5/sbin/hadoop-daemon.sh start datanode"
      ],
      "metadata": {
        "colab": {
          "base_uri": "https://localhost:8080/"
        },
        "id": "-w-6Jz-n7V6b",
        "outputId": "6184532c-0891-449c-ca13-3b5351c13469"
      },
      "execution_count": 12,
      "outputs": [
        {
          "output_type": "stream",
          "name": "stdout",
          "text": [
            "WARNING: Use of this script to start HDFS daemons is deprecated.\n",
            "WARNING: Attempting to execute replacement \"hdfs --daemon start\" instead.\n"
          ]
        }
      ]
    },
    {
      "cell_type": "code",
      "source": [
        "!jps"
      ],
      "metadata": {
        "colab": {
          "base_uri": "https://localhost:8080/"
        },
        "id": "qCUr5LU27YNV",
        "outputId": "9bf31c7f-46fd-46bf-bd7e-d29e9c23f4e6"
      },
      "execution_count": 13,
      "outputs": [
        {
          "output_type": "stream",
          "name": "stdout",
          "text": [
            "2625 Jps\n",
            "2354 NameNode\n",
            "2424 DataNode\n"
          ]
        }
      ]
    },
    {
      "cell_type": "code",
      "source": [
        "!/content/hadoop-3.3.5/bin/hdfs dfs -ls /"
      ],
      "metadata": {
        "id": "_VytDVkc7hLD"
      },
      "execution_count": 14,
      "outputs": []
    },
    {
      "cell_type": "code",
      "source": [
        "!/content/hadoop-3.3.5/bin/hdfs dfs -mkdir -p /user/root"
      ],
      "metadata": {
        "id": "YLq6Zbc07knq"
      },
      "execution_count": 15,
      "outputs": []
    },
    {
      "cell_type": "code",
      "source": [
        "!/content/hadoop-3.3.5/bin/hdfs dfs -ls /"
      ],
      "metadata": {
        "colab": {
          "base_uri": "https://localhost:8080/"
        },
        "id": "pyW3wbiV7mtV",
        "outputId": "885b77f4-bb33-4840-eeb6-cdef0dabb292"
      },
      "execution_count": 16,
      "outputs": [
        {
          "output_type": "stream",
          "name": "stdout",
          "text": [
            "Found 1 items\n",
            "drwxr-xr-x   - root supergroup          0 2024-12-03 19:10 /user\n"
          ]
        }
      ]
    },
    {
      "cell_type": "code",
      "source": [
        "!ls"
      ],
      "metadata": {
        "colab": {
          "base_uri": "https://localhost:8080/"
        },
        "id": "8P59aVAM7pAX",
        "outputId": "4fa477f3-fec9-4333-8eb7-cc0287099b3b"
      },
      "execution_count": 17,
      "outputs": [
        {
          "output_type": "stream",
          "name": "stdout",
          "text": [
            "astrnomicalData.csv  hadoop-3.3.5  hadoop-3.3.5.tar.gz\tsample_data\n"
          ]
        }
      ]
    },
    {
      "cell_type": "code",
      "source": [
        "!/content/hadoop-3.3.5/bin/hdfs dfs -mkdir -p /user/root"
      ],
      "metadata": {
        "id": "UAUPFiTE7rid"
      },
      "execution_count": 18,
      "outputs": []
    },
    {
      "cell_type": "code",
      "source": [
        "!/content/hadoop-3.3.5/bin/hdfs dfs -ls /user"
      ],
      "metadata": {
        "colab": {
          "base_uri": "https://localhost:8080/"
        },
        "id": "8EeBFDZ27ukB",
        "outputId": "7ee24fc0-6307-46c7-9ab7-540ac65d03ee"
      },
      "execution_count": 19,
      "outputs": [
        {
          "output_type": "stream",
          "name": "stdout",
          "text": [
            "Found 1 items\n",
            "drwxr-xr-x   - root supergroup          0 2024-12-03 19:10 /user/root\n"
          ]
        }
      ]
    },
    {
      "cell_type": "code",
      "source": [
        "!ls"
      ],
      "metadata": {
        "colab": {
          "base_uri": "https://localhost:8080/"
        },
        "id": "kdSWL2GY75OD",
        "outputId": "c4f7a490-d6ce-4de5-9f01-d204239f68e2"
      },
      "execution_count": 20,
      "outputs": [
        {
          "output_type": "stream",
          "name": "stdout",
          "text": [
            "astrnomicalData.csv  hadoop-3.3.5  hadoop-3.3.5.tar.gz\tsample_data\n"
          ]
        }
      ]
    },
    {
      "cell_type": "code",
      "source": [
        "!/content/hadoop-3.3.5/bin/hdfs dfs -mkdir -p /user/root"
      ],
      "metadata": {
        "id": "61lJmCGm771_"
      },
      "execution_count": 21,
      "outputs": []
    },
    {
      "cell_type": "code",
      "source": [
        "!/content/hadoop-3.3.5/bin/hdfs dfs -put astrnomicalData.csv /user/root/"
      ],
      "metadata": {
        "id": "FGTcwRI_7-8u"
      },
      "execution_count": 23,
      "outputs": []
    },
    {
      "cell_type": "code",
      "source": [
        "!/content/hadoop-3.3.5/bin/hdfs dfs -ls /user/root"
      ],
      "metadata": {
        "colab": {
          "base_uri": "https://localhost:8080/"
        },
        "id": "7oMr0x5A8B9K",
        "outputId": "98ed15c8-5364-4529-d0e1-2f4057882437"
      },
      "execution_count": 24,
      "outputs": [
        {
          "output_type": "stream",
          "name": "stdout",
          "text": [
            "Found 1 items\n",
            "-rw-r--r--   1 root supergroup       8064 2024-12-03 19:12 /user/root/astrnomicalData.csv\n"
          ]
        }
      ]
    },
    {
      "cell_type": "code",
      "source": [
        "!/content/hadoop-3.3.5/bin/hdfs dfs -cat /user/root/astrnomicalData.csv | head -n 10"
      ],
      "metadata": {
        "colab": {
          "base_uri": "https://localhost:8080/"
        },
        "id": "hDeSLcXh8J8K",
        "outputId": "27a2fdab-b960-4bf2-bf55-b4c6eb12d31c"
      },
      "execution_count": 26,
      "outputs": [
        {
          "output_type": "stream",
          "name": "stdout",
          "text": [
            "Temperature (K),Luminosity(L/Lo),Radius(R/Ro),Absolute magnitude(Mv),Star type,Star color,Spectral Class\n",
            ",,,,,,\n",
            "3042,0.0005,0.1542,16.6,0,Red,M\n",
            "2600,0.0003,0.102,18.7,0,Red,M\n",
            "2800,0.0002, ,16.65,0,Red,M\n",
            "1939,0.000138,0.103,20.06,0,Red,M\n",
            "2840, ,0.11,16.98,0,Red,M\n",
            "2637,0.00073,0.127,17.22,0,Red,M\n",
            "2600,0.0004,0.096,17.4,0,Red,M\n",
            "2650,0.00069,0.11,17.45,0,Red,M\n"
          ]
        }
      ]
    },
    {
      "cell_type": "code",
      "source": [
        "!pip install hdfs"
      ],
      "metadata": {
        "colab": {
          "base_uri": "https://localhost:8080/"
        },
        "id": "zUccIgEy8QIJ",
        "outputId": "5ed08abe-43a3-40cc-bd12-a8f78c18e055"
      },
      "execution_count": 27,
      "outputs": [
        {
          "output_type": "stream",
          "name": "stdout",
          "text": [
            "Collecting hdfs\n",
            "  Downloading hdfs-2.7.3.tar.gz (43 kB)\n",
            "\u001b[?25l     \u001b[90m━━━━━━━━━━━━━━━━━━━━━━━━━━━━━━━━━━━━━━━━\u001b[0m \u001b[32m0.0/43.5 kB\u001b[0m \u001b[31m?\u001b[0m eta \u001b[36m-:--:--\u001b[0m\r\u001b[2K     \u001b[90m━━━━━━━━━━━━━━━━━━━━━━━━━━━━━━━━━━━━━━━━\u001b[0m \u001b[32m43.5/43.5 kB\u001b[0m \u001b[31m2.2 MB/s\u001b[0m eta \u001b[36m0:00:00\u001b[0m\n",
            "\u001b[?25h  Preparing metadata (setup.py) ... \u001b[?25l\u001b[?25hdone\n",
            "Collecting docopt (from hdfs)\n",
            "  Downloading docopt-0.6.2.tar.gz (25 kB)\n",
            "  Preparing metadata (setup.py) ... \u001b[?25l\u001b[?25hdone\n",
            "Requirement already satisfied: requests>=2.7.0 in /usr/local/lib/python3.10/dist-packages (from hdfs) (2.32.3)\n",
            "Requirement already satisfied: six>=1.9.0 in /usr/local/lib/python3.10/dist-packages (from hdfs) (1.16.0)\n",
            "Requirement already satisfied: charset-normalizer<4,>=2 in /usr/local/lib/python3.10/dist-packages (from requests>=2.7.0->hdfs) (3.4.0)\n",
            "Requirement already satisfied: idna<4,>=2.5 in /usr/local/lib/python3.10/dist-packages (from requests>=2.7.0->hdfs) (3.10)\n",
            "Requirement already satisfied: urllib3<3,>=1.21.1 in /usr/local/lib/python3.10/dist-packages (from requests>=2.7.0->hdfs) (2.2.3)\n",
            "Requirement already satisfied: certifi>=2017.4.17 in /usr/local/lib/python3.10/dist-packages (from requests>=2.7.0->hdfs) (2024.8.30)\n",
            "Building wheels for collected packages: hdfs, docopt\n",
            "  Building wheel for hdfs (setup.py) ... \u001b[?25l\u001b[?25hdone\n",
            "  Created wheel for hdfs: filename=hdfs-2.7.3-py3-none-any.whl size=34324 sha256=de36392f906f5cd1b8a7f9264de787917c3bf6c2943b03388f34d5e78109730b\n",
            "  Stored in directory: /root/.cache/pip/wheels/e5/8d/b6/99c1c0a3ac5788c866b0ecd3f48b0134a5910e6ed26011800b\n",
            "  Building wheel for docopt (setup.py) ... \u001b[?25l\u001b[?25hdone\n",
            "  Created wheel for docopt: filename=docopt-0.6.2-py2.py3-none-any.whl size=13706 sha256=401eacdc1a45dcf3d24b957f24e7e34adbb9399a57a0476558155b9a7d002f41\n",
            "  Stored in directory: /root/.cache/pip/wheels/fc/ab/d4/5da2067ac95b36618c629a5f93f809425700506f72c9732fac\n",
            "Successfully built hdfs docopt\n",
            "Installing collected packages: docopt, hdfs\n",
            "Successfully installed docopt-0.6.2 hdfs-2.7.3\n"
          ]
        }
      ]
    },
    {
      "cell_type": "code",
      "source": [
        "!hdfs dfs -cat /user/root/astrnomicalData.csv | head -n 10"
      ],
      "metadata": {
        "colab": {
          "base_uri": "https://localhost:8080/"
        },
        "id": "5HlgcB5k8Xra",
        "outputId": "f8a81ce8-9a87-49a4-91ea-8e39586dfa07"
      },
      "execution_count": 28,
      "outputs": [
        {
          "output_type": "stream",
          "name": "stdout",
          "text": [
            "Temperature (K),Luminosity(L/Lo),Radius(R/Ro),Absolute magnitude(Mv),Star type,Star color,Spectral Class\n",
            ",,,,,,\n",
            "3042,0.0005,0.1542,16.6,0,Red,M\n",
            "2600,0.0003,0.102,18.7,0,Red,M\n",
            "2800,0.0002, ,16.65,0,Red,M\n",
            "1939,0.000138,0.103,20.06,0,Red,M\n",
            "2840, ,0.11,16.98,0,Red,M\n",
            "2637,0.00073,0.127,17.22,0,Red,M\n",
            "2600,0.0004,0.096,17.4,0,Red,M\n",
            "2650,0.00069,0.11,17.45,0,Red,M\n"
          ]
        }
      ]
    },
    {
      "cell_type": "code",
      "source": [
        "!/content/hadoop-3.3.5/bin/hdfs dfs -cat /user/root/astrnomicalData.csv | head -n 5"
      ],
      "metadata": {
        "colab": {
          "base_uri": "https://localhost:8080/"
        },
        "id": "wmFurcN88gbk",
        "outputId": "b85b04d3-04c9-4385-b229-615d803e38af"
      },
      "execution_count": 29,
      "outputs": [
        {
          "output_type": "stream",
          "name": "stdout",
          "text": [
            "Temperature (K),Luminosity(L/Lo),Radius(R/Ro),Absolute magnitude(Mv),Star type,Star color,Spectral Class\n",
            ",,,,,,\n",
            "3042,0.0005,0.1542,16.6,0,Red,M\n",
            "2600,0.0003,0.102,18.7,0,Red,M\n",
            "2800,0.0002, ,16.65,0,Red,M\n"
          ]
        }
      ]
    },
    {
      "cell_type": "code",
      "source": [
        "!/content/hadoop-3.3.5/bin/hdfs dfs -cat /user/root/astrnomicalData.csv | wc -l"
      ],
      "metadata": {
        "colab": {
          "base_uri": "https://localhost:8080/"
        },
        "id": "qU-8AS0E8njm",
        "outputId": "cd69c504-56e6-4d7e-9d9d-dc13948e6586"
      },
      "execution_count": 30,
      "outputs": [
        {
          "output_type": "stream",
          "name": "stdout",
          "text": [
            "241\n"
          ]
        }
      ]
    },
    {
      "cell_type": "code",
      "source": [
        "!/content/hadoop-3.3.5/bin/hdfs dfs -du /user/root/astrnomicalData.csv"
      ],
      "metadata": {
        "colab": {
          "base_uri": "https://localhost:8080/"
        },
        "id": "Tajx9gOQ8tmR",
        "outputId": "14499a0a-5bae-48c0-bfa7-0d4a03ecd8e1"
      },
      "execution_count": 31,
      "outputs": [
        {
          "output_type": "stream",
          "name": "stdout",
          "text": [
            "8064  8064  /user/root/astrnomicalData.csv\n"
          ]
        }
      ]
    },
    {
      "cell_type": "code",
      "source": [
        "!/content/hadoop-3.3.5/bin/hdfs dfs -cat /user/root/astrnomicalData.csv | grep \"3042\""
      ],
      "metadata": {
        "colab": {
          "base_uri": "https://localhost:8080/"
        },
        "id": "gbBVO0-B81Sk",
        "outputId": "8ac918fc-c264-42a5-cdcb-6ec5c7706c6b"
      },
      "execution_count": 33,
      "outputs": [
        {
          "output_type": "stream",
          "name": "stdout",
          "text": [
            "3042,0.0005,0.1542,16.6,0,Red,M\n"
          ]
        }
      ]
    },
    {
      "cell_type": "code",
      "source": [
        "!/content/hadoop-3.3.5/bin/hdfs dfs -cat /user/root/astrnomicalData.csv | sort | head -n 5"
      ],
      "metadata": {
        "colab": {
          "base_uri": "https://localhost:8080/"
        },
        "id": "FmO7n1Se8_Ki",
        "outputId": "91f0acee-5f11-4fbe-9e3d-2c3d48232e97"
      },
      "execution_count": 34,
      "outputs": [
        {
          "output_type": "stream",
          "name": "stdout",
          "text": [
            ",,,,,,\n",
            " ,0.0015,0.0112,11.52,2,Blue,B\n",
            "10012,552,5.856,0.013,3,Blue-White,A\n",
            "10574,0.00014, ,12.02,2,White,F\n",
            "10930,783930,25,-6.224,4,Blue,O\n"
          ]
        }
      ]
    },
    {
      "cell_type": "code",
      "source": [
        "!/content/hadoop-3.3.5/bin/hdfs dfs -cat /user/root/astrnomicalData.csv | sort -t ',' -k3,3n | head -n 3"
      ],
      "metadata": {
        "colab": {
          "base_uri": "https://localhost:8080/"
        },
        "id": "bTr1Wftv9H65",
        "outputId": "b6ed86ee-1329-4a9e-f1fb-baf5585a318a"
      },
      "execution_count": 35,
      "outputs": [
        {
          "output_type": "stream",
          "name": "stdout",
          "text": [
            ",,,,,,\n",
            "10574,0.00014, ,12.02,2,White,F\n",
            "12749,332520, ,-7.02,4,Blue,O\n"
          ]
        }
      ]
    },
    {
      "cell_type": "code",
      "source": [
        "# Install PySpark in Colab\n",
        "!pip install pyspark"
      ],
      "metadata": {
        "colab": {
          "base_uri": "https://localhost:8080/"
        },
        "id": "nux1SXQd9Oui",
        "outputId": "bf0e9d80-053f-4aa5-be01-d4ed56970630"
      },
      "execution_count": 36,
      "outputs": [
        {
          "output_type": "stream",
          "name": "stdout",
          "text": [
            "Requirement already satisfied: pyspark in /usr/local/lib/python3.10/dist-packages (3.5.3)\n",
            "Requirement already satisfied: py4j==0.10.9.7 in /usr/local/lib/python3.10/dist-packages (from pyspark) (0.10.9.7)\n"
          ]
        }
      ]
    },
    {
      "cell_type": "code",
      "source": [
        "from pyspark.sql import SparkSession\n",
        "\n",
        "# Initialize Spark session\n",
        "spark = SparkSession.builder.master(\"local\").appName(\"YouTubeAnalytics\").getOrCreate()"
      ],
      "metadata": {
        "id": "J4L6Bcw49VaA"
      },
      "execution_count": 37,
      "outputs": []
    },
    {
      "cell_type": "code",
      "source": [
        "# Load the dataset\n",
        "df = spark.read.csv('astrnomicalData.csv', header=True, inferSchema=True)\n",
        "df.show(5)  # Display the first 5 rows"
      ],
      "metadata": {
        "colab": {
          "base_uri": "https://localhost:8080/"
        },
        "id": "nojuaklA9X_u",
        "outputId": "3a08fd46-b901-4c85-b3a2-9dd4bf23fce5"
      },
      "execution_count": 38,
      "outputs": [
        {
          "output_type": "stream",
          "name": "stdout",
          "text": [
            "+---------------+----------------+------------+----------------------+---------+----------+--------------+\n",
            "|Temperature (K)|Luminosity(L/Lo)|Radius(R/Ro)|Absolute magnitude(Mv)|Star type|Star color|Spectral Class|\n",
            "+---------------+----------------+------------+----------------------+---------+----------+--------------+\n",
            "|           NULL|            NULL|        NULL|                  NULL|     NULL|      NULL|          NULL|\n",
            "|           3042|          0.0005|      0.1542|                  16.6|        0|       Red|             M|\n",
            "|           2600|          0.0003|       0.102|                  18.7|        0|       Red|             M|\n",
            "|           2800|          0.0002|            |                 16.65|        0|       Red|             M|\n",
            "|           1939|        0.000138|       0.103|                 20.06|        0|       Red|             M|\n",
            "+---------------+----------------+------------+----------------------+---------+----------+--------------+\n",
            "only showing top 5 rows\n",
            "\n"
          ]
        }
      ]
    },
    {
      "cell_type": "code",
      "source": [
        "df.columns"
      ],
      "metadata": {
        "colab": {
          "base_uri": "https://localhost:8080/"
        },
        "id": "mMZ2b2GS9d16",
        "outputId": "05a19037-f7d1-4264-de7a-de6943c9c1b6"
      },
      "execution_count": 39,
      "outputs": [
        {
          "output_type": "execute_result",
          "data": {
            "text/plain": [
              "['Temperature (K)',\n",
              " 'Luminosity(L/Lo)',\n",
              " 'Radius(R/Ro)',\n",
              " 'Absolute magnitude(Mv)',\n",
              " 'Star type',\n",
              " 'Star color',\n",
              " 'Spectral Class']"
            ]
          },
          "metadata": {},
          "execution_count": 39
        }
      ]
    },
    {
      "cell_type": "code",
      "source": [
        "df.printSchema()"
      ],
      "metadata": {
        "colab": {
          "base_uri": "https://localhost:8080/"
        },
        "id": "AeXbh4_n9hO3",
        "outputId": "a620fb63-963d-421d-eaea-a6d776d3013b"
      },
      "execution_count": 41,
      "outputs": [
        {
          "output_type": "stream",
          "name": "stdout",
          "text": [
            "root\n",
            " |-- Temperature (K): double (nullable = true)\n",
            " |-- Luminosity(L/Lo): double (nullable = true)\n",
            " |-- Radius(R/Ro): double (nullable = true)\n",
            " |-- Absolute magnitude(Mv): double (nullable = true)\n",
            "\n"
          ]
        }
      ]
    },
    {
      "cell_type": "code",
      "source": [
        "df = df.dropna()"
      ],
      "metadata": {
        "id": "48sm2Le1-Ckn"
      },
      "execution_count": 43,
      "outputs": []
    },
    {
      "cell_type": "code",
      "source": [
        "df.printSchema()"
      ],
      "metadata": {
        "colab": {
          "base_uri": "https://localhost:8080/"
        },
        "id": "FkOh7UDu-k2P",
        "outputId": "74958a02-a009-422a-ca4d-36d23ae5d07b"
      },
      "execution_count": 44,
      "outputs": [
        {
          "output_type": "stream",
          "name": "stdout",
          "text": [
            "root\n",
            " |-- Temperature (K): double (nullable = true)\n",
            " |-- Luminosity(L/Lo): double (nullable = true)\n",
            " |-- Radius(R/Ro): double (nullable = true)\n",
            " |-- Absolute magnitude(Mv): double (nullable = true)\n",
            "\n"
          ]
        }
      ]
    },
    {
      "cell_type": "code",
      "source": [
        "df = df.fillna(0)  # Fill nulls with zeros\n"
      ],
      "metadata": {
        "id": "3b9E_D6b-yXg"
      },
      "execution_count": 45,
      "outputs": []
    },
    {
      "cell_type": "code",
      "source": [
        "df.printSchema()\n"
      ],
      "metadata": {
        "colab": {
          "base_uri": "https://localhost:8080/"
        },
        "id": "uByn7VXf-1gT",
        "outputId": "28215b71-dd61-4e15-cd8f-96201490bd6a"
      },
      "execution_count": 46,
      "outputs": [
        {
          "output_type": "stream",
          "name": "stdout",
          "text": [
            "root\n",
            " |-- Temperature (K): double (nullable = false)\n",
            " |-- Luminosity(L/Lo): double (nullable = false)\n",
            " |-- Radius(R/Ro): double (nullable = false)\n",
            " |-- Absolute magnitude(Mv): double (nullable = false)\n",
            "\n"
          ]
        }
      ]
    },
    {
      "cell_type": "code",
      "source": [
        "df.show(5)"
      ],
      "metadata": {
        "colab": {
          "base_uri": "https://localhost:8080/"
        },
        "id": "oA879diM-9gS",
        "outputId": "e5025e51-e650-4a8d-da4e-d464b4a57c67"
      },
      "execution_count": 48,
      "outputs": [
        {
          "output_type": "stream",
          "name": "stdout",
          "text": [
            "+---------------+----------------+------------+----------------------+\n",
            "|Temperature (K)|Luminosity(L/Lo)|Radius(R/Ro)|Absolute magnitude(Mv)|\n",
            "+---------------+----------------+------------+----------------------+\n",
            "|         3042.0|          5.0E-4|      0.1542|                  16.6|\n",
            "|         2600.0|          3.0E-4|       0.102|                  18.7|\n",
            "|         1939.0|         1.38E-4|       0.103|                 20.06|\n",
            "|         2637.0|          7.3E-4|       0.127|                 17.22|\n",
            "|         2600.0|          4.0E-4|       0.096|                  17.4|\n",
            "+---------------+----------------+------------+----------------------+\n",
            "only showing top 5 rows\n",
            "\n"
          ]
        }
      ]
    },
    {
      "cell_type": "code",
      "source": [
        "# Check schema\n",
        "df.printSchema()\n",
        "\n",
        "# Drop null values\n",
        "df = df.dropna()\n",
        "\n",
        "# Ensure data types are correct\n",
        "df = df.withColumn(\"Temperature (K)\", df[\"Temperature (K)\"].cast(\"double\"))\n",
        "df = df.withColumn(\"Luminosity(L/Lo)\", df[\"Luminosity(L/Lo)\"].cast(\"double\"))\n",
        "df = df.withColumn(\"Radius(R/Ro)\", df[\"Radius(R/Ro)\"].cast(\"double\"))\n",
        "df = df.withColumn(\"Absolute magnitude(Mv)\", df[\"Absolute magnitude(Mv)\"].cast(\"double\"))\n",
        "\n",
        "# Assemble features into a feature vector\n",
        "from pyspark.ml.feature import VectorAssembler\n",
        "feature_columns = [\"Temperature (K)\", \"Luminosity(L/Lo)\", \"Radius(R/Ro)\"]\n",
        "assembler = VectorAssembler(inputCols=feature_columns, outputCol=\"features\")\n",
        "df_transformed = assembler.transform(df)\n",
        "\n",
        "# Confirm the features column\n",
        "df_transformed.select(\"features\", \"Absolute magnitude(Mv)\").show(5)\n"
      ],
      "metadata": {
        "colab": {
          "base_uri": "https://localhost:8080/"
        },
        "id": "HlLHOvjZ_Hs0",
        "outputId": "28ef5d4b-86ad-4b80-bca7-f4f17a694e6c"
      },
      "execution_count": 49,
      "outputs": [
        {
          "output_type": "stream",
          "name": "stdout",
          "text": [
            "root\n",
            " |-- Temperature (K): double (nullable = false)\n",
            " |-- Luminosity(L/Lo): double (nullable = false)\n",
            " |-- Radius(R/Ro): double (nullable = false)\n",
            " |-- Absolute magnitude(Mv): double (nullable = false)\n",
            "\n",
            "+--------------------+----------------------+\n",
            "|            features|Absolute magnitude(Mv)|\n",
            "+--------------------+----------------------+\n",
            "|[3042.0,5.0E-4,0....|                  16.6|\n",
            "|[2600.0,3.0E-4,0....|                  18.7|\n",
            "|[1939.0,1.38E-4,0...|                 20.06|\n",
            "|[2637.0,7.3E-4,0....|                 17.22|\n",
            "|[2600.0,4.0E-4,0....|                  17.4|\n",
            "+--------------------+----------------------+\n",
            "only showing top 5 rows\n",
            "\n"
          ]
        }
      ]
    }
  ]
}