{
 "cells": [
  {
   "cell_type": "markdown",
   "metadata": {},
   "source": [
    "## Reading File Data to DataFrame"
   ]
  },
  {
   "cell_type": "code",
   "execution_count": 1,
   "metadata": {
    "scrolled": true
   },
   "outputs": [
    {
     "name": "stdout",
     "output_type": "stream",
     "text": [
      "+----------+-----+-------+-------+-------+-------+\n",
      "|      Date| Time|   City|   Item|  Total|Payment|\n",
      "+----------+-----+-------+-------+-------+-------+\n",
      "|2020-07-10|15:25|Phoenix| Laptop| 911.56|   Cash|\n",
      "|2020-03-03|20:02|Houston|Charger|1497.47| PayPal|\n",
      "|2020-05-18|23:30|Houston|Charger|1440.46| PayPal|\n",
      "+----------+-----+-------+-------+-------+-------+\n",
      "only showing top 3 rows\n",
      "\n"
     ]
    }
   ],
   "source": [
    "#import module\n",
    "from pyspark.sql import SparkSession\n",
    "from pyspark.sql.types import *\n",
    "\n",
    "#create session in order to be capable of accessing all Spark API\n",
    "spark = SparkSession \\\n",
    "    .builder \\\n",
    "    .appName(\"Introdution to Spark DataFrame\") \\\n",
    "    .config(\"spark.some.config.option\", \"some-value\") \\\n",
    "    .getOrCreate()\n",
    "\n",
    "#define data schema for file we want to read\n",
    "purchaseSchema = StructType([\n",
    "    StructField(\"Date\", DateType(), True),\n",
    "    StructField(\"Time\", StringType(), True),\n",
    "    StructField(\"City\", StringType(), True),\n",
    "    StructField(\"Item\", StringType(), True),\n",
    "    StructField(\"Total\", FloatType(), True),\n",
    "    StructField(\"Payment\", StringType(), True),\n",
    "])    \n",
    "\n",
    "# read csv file with our defined schema into Spark DataFrame, and use \"tab\" delimiter\n",
    "purchaseDataframe = spark.read.csv(\n",
    "    \"salesData.csv\", \n",
    "    header=True, schema=purchaseSchema, sep=\",\")  # Change sep=\"\\t\" to sep=\",\"\n",
    "purchaseDataframe.show(3)"
   ]
  },
  {
   "cell_type": "markdown",
   "metadata": {},
   "source": [
    "## Counting number of rows, printing dataframe schema and printing statistic of our data"
   ]
  },
  {
   "cell_type": "code",
   "execution_count": 2,
   "metadata": {},
   "outputs": [
    {
     "name": "stdout",
     "output_type": "stream",
     "text": [
      "number of rows:  1600000\n",
      "root\n",
      " |-- Date: date (nullable = true)\n",
      " |-- Time: string (nullable = true)\n",
      " |-- City: string (nullable = true)\n",
      " |-- Item: string (nullable = true)\n",
      " |-- Total: float (nullable = true)\n",
      " |-- Payment: string (nullable = true)\n",
      "\n",
      "+-------+------------------+\n",
      "|summary|             Total|\n",
      "+-------+------------------+\n",
      "|  count|           1600000|\n",
      "|   mean|1004.7815742509503|\n",
      "| stddev| 574.6892077378205|\n",
      "|    min|              10.0|\n",
      "|    max|            2000.0|\n",
      "+-------+------------------+\n",
      "\n"
     ]
    }
   ],
   "source": [
    "#count number of rows of our dataFrame\n",
    "num_rows = purchaseDataframe.count()\n",
    "print(\"number of rows: \", num_rows)\n",
    "#show our dataFrame schema\n",
    "purchaseDataframe.printSchema()\n",
    "#show statistic of the data we want\n",
    "purchaseDataframe.describe('Total').show()"
   ]
  },
  {
   "cell_type": "markdown",
   "metadata": {},
   "source": [
    "## Creating a new dataFrame from a subset of our existing dataFrame"
   ]
  },
  {
   "cell_type": "code",
   "execution_count": 3,
   "metadata": {},
   "outputs": [
    {
     "name": "stdout",
     "output_type": "stream",
     "text": [
      "+-------+-------+\n",
      "|   City|  Total|\n",
      "+-------+-------+\n",
      "|Phoenix| 911.56|\n",
      "|Houston|1497.47|\n",
      "|Houston|1440.46|\n",
      "+-------+-------+\n",
      "only showing top 3 rows\n",
      "\n",
      "root\n",
      " |-- City: string (nullable = true)\n",
      " |-- Total: float (nullable = true)\n",
      "\n"
     ]
    }
   ],
   "source": [
    "#create new dataFrame from \"City\" and \"Total\" columns\n",
    "newDataframe = purchaseDataframe.select(purchaseDataframe['City'], \n",
    "                                              purchaseDataframe['Total'])\n",
    "newDataframe.show(3); #menampilkan 3 baris DataFrame baru kita\n",
    "newDataframe.printSchema() #print skema dari DataFrame baru kita"
   ]
  },
  {
   "cell_type": "markdown",
   "metadata": {},
   "source": [
    "## Adding a constant value to every row data in certain column"
   ]
  },
  {
   "cell_type": "code",
   "execution_count": 4,
   "metadata": {
    "scrolled": true
   },
   "outputs": [
    {
     "name": "stdout",
     "output_type": "stream",
     "text": [
      "+-------+------------+\n",
      "|   City|(Total + 10)|\n",
      "+-------+------------+\n",
      "|Phoenix|      921.56|\n",
      "|Houston|     1507.47|\n",
      "|Houston|     1450.46|\n",
      "+-------+------------+\n",
      "only showing top 3 rows\n",
      "\n"
     ]
    }
   ],
   "source": [
    "#adding constant value of 10 to every row data in \"Total\" column\n",
    "purchaseDataframe.select(purchaseDataframe['City'],\n",
    "                         purchaseDataframe['Total']+10).show(3)"
   ]
  },
  {
   "cell_type": "markdown",
   "metadata": {},
   "source": [
    "## Filtering dataFrame using our defined condition"
   ]
  },
  {
   "cell_type": "code",
   "execution_count": 5,
   "metadata": {},
   "outputs": [
    {
     "name": "stdout",
     "output_type": "stream",
     "text": [
      "+----------+-----+-------+-------+-------+-------+\n",
      "|      Date| Time|   City|   Item|  Total|Payment|\n",
      "+----------+-----+-------+-------+-------+-------+\n",
      "|2020-07-10|15:25|Phoenix| Laptop| 911.56|   Cash|\n",
      "|2020-03-03|20:02|Houston|Charger|1497.47| PayPal|\n",
      "|2020-05-18|23:30|Houston|Charger|1440.46| PayPal|\n",
      "+----------+-----+-------+-------+-------+-------+\n",
      "only showing top 3 rows\n",
      "\n"
     ]
    }
   ],
   "source": [
    "#filter only row data whose \"Total\" column value > 200\n",
    "purchaseDataframe.filter(purchaseDataframe['Total'] > 200).show(3)"
   ]
  },
  {
   "cell_type": "markdown",
   "metadata": {},
   "source": [
    "## Sorting dataFrame by certain column"
   ]
  },
  {
   "cell_type": "code",
   "execution_count": 6,
   "metadata": {
    "scrolled": true
   },
   "outputs": [
    {
     "name": "stdout",
     "output_type": "stream",
     "text": [
      "+----------+-----+-------+----------+-------+-----------+\n",
      "|      Date| Time|   City|      Item|  Total|    Payment|\n",
      "+----------+-----+-------+----------+-------+-----------+\n",
      "|2020-03-15|01:11|Chicago|    Laptop| 385.19| Debit Card|\n",
      "|2020-09-01|11:40|Chicago|Headphones|1041.27|Credit Card|\n",
      "|2020-10-28|05:32|Chicago|Headphones|1558.53|Credit Card|\n",
      "|2020-05-14|21:05|Chicago|Headphones|  82.62| Debit Card|\n",
      "+----------+-----+-------+----------+-------+-----------+\n",
      "only showing top 4 rows\n",
      "\n"
     ]
    }
   ],
   "source": [
    "sortedByCity = purchaseDataframe.orderBy('City').show(4)"
   ]
  },
  {
   "cell_type": "markdown",
   "metadata": {},
   "source": [
    "## Calculating number of transactions in each city"
   ]
  },
  {
   "cell_type": "code",
   "execution_count": 7,
   "metadata": {},
   "outputs": [
    {
     "name": "stdout",
     "output_type": "stream",
     "text": [
      "+-----------+------+\n",
      "|       City| count|\n",
      "+-----------+------+\n",
      "|    Phoenix|320397|\n",
      "|Los Angeles|320576|\n",
      "|    Chicago|320420|\n",
      "|    Houston|319726|\n",
      "|   New York|318881|\n",
      "+-----------+------+\n",
      "\n"
     ]
    }
   ],
   "source": [
    "numTransactionEachCity = purchaseDataframe.groupBy(\"City\").count()\n",
    "numTransactionEachCity.show(5)"
   ]
  },
  {
   "cell_type": "markdown",
   "metadata": {},
   "source": [
    "## Indexing and Accessing DataFrame\n",
    "Since Spark dataFrame is distributed into clusters, we cannot access it by [row,column] as in pandas dataFrame for example. There is an alternative way to do that by creating new column with \"incremental ID\". Then, we can access by row using \".filter()\" function to our \"incremental ID\" column. "
   ]
  },
  {
   "cell_type": "code",
   "execution_count": 8,
   "metadata": {},
   "outputs": [
    {
     "name": "stdout",
     "output_type": "stream",
     "text": [
      "+----------+-----+-----------+----------+-------+----------+-----+\n",
      "|      Date| Time|       City|      Item|  Total|   Payment|index|\n",
      "+----------+-----+-----------+----------+-------+----------+-----+\n",
      "|2020-07-10|15:25|    Phoenix|    Laptop| 911.56|      Cash|    0|\n",
      "|2020-03-03|20:02|    Houston|   Charger|1497.47|    PayPal|    1|\n",
      "|2020-05-18|23:30|    Houston|   Charger|1440.46|    PayPal|    2|\n",
      "|2020-12-24|15:24|    Phoenix|    Tablet|  743.5|    PayPal|    3|\n",
      "|2020-08-12|15:11|   New York|   Charger| 796.66|    PayPal|    4|\n",
      "|2020-12-03|16:22|Los Angeles|Headphones| 182.77|Debit Card|    5|\n",
      "|2020-04-20|09:05|Los Angeles|     Phone| 442.84|    PayPal|    6|\n",
      "+----------+-----+-----------+----------+-------+----------+-----+\n",
      "only showing top 7 rows\n",
      "\n",
      "+----------+-----+--------+-------+-------+-------+-----+\n",
      "|      Date| Time|    City|   Item|  Total|Payment|index|\n",
      "+----------+-----+--------+-------+-------+-------+-----+\n",
      "|2020-05-18|23:30| Houston|Charger|1440.46| PayPal|    2|\n",
      "|2020-12-24|15:24| Phoenix| Tablet|  743.5| PayPal|    3|\n",
      "|2020-08-12|15:11|New York|Charger| 796.66| PayPal|    4|\n",
      "+----------+-----+--------+-------+-------+-------+-----+\n",
      "\n"
     ]
    }
   ],
   "source": [
    "#import monotonically_increasing_id\n",
    "from pyspark.sql.functions import monotonically_increasing_id\n",
    "\n",
    "newPurchasedDataframe = purchaseDataframe.withColumn(\n",
    "    \"index\", monotonically_increasing_id())\n",
    "newPurchasedDataframe.show(7)\n",
    "row2Till4 = newPurchasedDataframe.filter((newPurchasedDataframe['index']>=2) &\n",
    "                                         (newPurchasedDataframe['index']<=4))\n",
    "row2Till4.show()"
   ]
  },
  {
   "cell_type": "markdown",
   "metadata": {},
   "source": [
    "Then, to access it by row and column, use \".select()\" function we ever used above before."
   ]
  },
  {
   "cell_type": "code",
   "execution_count": 9,
   "metadata": {},
   "outputs": [
    {
     "name": "stdout",
     "output_type": "stream",
     "text": [
      "+-------+\n",
      "|  Total|\n",
      "+-------+\n",
      "|1440.46|\n",
      "+-------+\n",
      "\n"
     ]
    }
   ],
   "source": [
    "dataRow2ColumnTotal = newPurchasedDataframe.filter(newPurchasedDataframe['index']==2).select('Total')\n",
    "dataRow2ColumnTotal.show()"
   ]
  },
  {
   "cell_type": "markdown",
   "metadata": {},
   "source": [
    "# Using SQL query in dataFrame\n",
    "\n",
    "Create a new dataFrame from the subset of our existing dataFrame"
   ]
  },
  {
   "cell_type": "code",
   "execution_count": 10,
   "metadata": {},
   "outputs": [
    {
     "name": "stdout",
     "output_type": "stream",
     "text": [
      "+-------+-------+\n",
      "|  Total|Payment|\n",
      "+-------+-------+\n",
      "| 911.56|   Cash|\n",
      "|1497.47| PayPal|\n",
      "|1440.46| PayPal|\n",
      "+-------+-------+\n",
      "only showing top 3 rows\n",
      "\n"
     ]
    }
   ],
   "source": [
    "#we need to make sql temporary view for our dataFrame\n",
    "purchaseDataframe.createOrReplaceTempView(\"purchaseSql\")\n",
    "\n",
    "#select \"Total\" dan \"Payment\" column from our sql temporary view\n",
    "anotherNewDataframe = spark.sql(\"SELECT Total, Payment FROM purchaseSql\")\n",
    "anotherNewDataframe.show(3)"
   ]
  },
  {
   "cell_type": "markdown",
   "metadata": {},
   "source": [
    "Sorting data by certain column"
   ]
  },
  {
   "cell_type": "code",
   "execution_count": 11,
   "metadata": {},
   "outputs": [
    {
     "name": "stdout",
     "output_type": "stream",
     "text": [
      "+----------+-----+-------+-------+-------+-----------+\n",
      "|      Date| Time|   City|   Item|  Total|    Payment|\n",
      "+----------+-----+-------+-------+-------+-----------+\n",
      "|2020-12-19|09:16|Chicago| Laptop|1319.89|       Cash|\n",
      "|2020-12-22|12:59|Chicago| Laptop| 945.85|Credit Card|\n",
      "|2020-03-19|20:29|Chicago| Laptop| 504.96| Debit Card|\n",
      "|2020-08-02|19:04|Chicago|Charger|1977.21|     PayPal|\n",
      "|2020-07-24|11:08|Chicago| Tablet|1513.16|     PayPal|\n",
      "+----------+-----+-------+-------+-------+-----------+\n",
      "only showing top 5 rows\n",
      "\n"
     ]
    }
   ],
   "source": [
    "#sorting data by \"City\" column alphabetically\n",
    "orderByCity = spark.sql(\"SELECT * FROM purchaseSql ORDER BY City\")\n",
    "orderByCity.show(5)"
   ]
  },
  {
   "cell_type": "markdown",
   "metadata": {},
   "source": [
    "The last one, we wil show how to filter data with \"Total\" column value > 200, and sort them by \"Payment\" column data."
   ]
  },
  {
   "cell_type": "code",
   "execution_count": 12,
   "metadata": {},
   "outputs": [
    {
     "name": "stdout",
     "output_type": "stream",
     "text": [
      "+----------+-----+--------+-------+-------+-------+\n",
      "|      Date| Time|    City|   Item|  Total|Payment|\n",
      "+----------+-----+--------+-------+-------+-------+\n",
      "|2020-12-19|09:16| Chicago| Laptop|1319.89|   Cash|\n",
      "|2020-04-09|21:22| Chicago| Laptop| 664.76|   Cash|\n",
      "|2020-04-15|19:02|New York| Laptop|1138.33|   Cash|\n",
      "|2020-10-26|12:09| Chicago|Charger|1471.14|   Cash|\n",
      "+----------+-----+--------+-------+-------+-------+\n",
      "only showing top 4 rows\n",
      "\n"
     ]
    }
   ],
   "source": [
    "#filter nilai kolom Total>50 dan urutkan berdasarkan cara pembayaran\n",
    "filterAndSortWithSQL = spark.sql(\"SELECT * FROM purchaseSql WHERE Total>200 ORDER BY Payment\")\n",
    "filterAndSortWithSQL.show(4)"
   ]
  },
  {
   "cell_type": "code",
   "execution_count": 13,
   "metadata": {},
   "outputs": [
    {
     "name": "stdout",
     "output_type": "stream",
     "text": [
      "Requirement already satisfied: numpy in c:\\users\\vboxuser\\appdata\\local\\programs\\python\\python39\\lib\\site-packages (2.0.2)\n"
     ]
    },
    {
     "name": "stderr",
     "output_type": "stream",
     "text": [
      "WARNING: You are using pip version 20.2.3; however, version 24.3.1 is available.\n",
      "You should consider upgrading via the 'c:\\users\\vboxuser\\appdata\\local\\programs\\python\\python39\\python.exe -m pip install --upgrade pip' command.\n"
     ]
    }
   ],
   "source": [
    "!pip install numpy"
   ]
  },
  {
   "cell_type": "code",
   "execution_count": 23,
   "metadata": {},
   "outputs": [],
   "source": [
    "#import necessary ML libraries\n",
    "from pyspark.ml.feature import StringIndexer, VectorAssembler\n",
    "from pyspark.ml.regression import LinearRegression\n",
    "from pyspark.ml import Pipeline"
   ]
  },
  {
   "cell_type": "code",
   "execution_count": 25,
   "metadata": {},
   "outputs": [
    {
     "name": "stdout",
     "output_type": "stream",
     "text": [
      "+--------------------+-------+------------------+\n",
      "|            features|  Total|        prediction|\n",
      "+--------------------+-------+------------------+\n",
      "|[1.0,2.0,477.5899...| 477.59| 477.5899963378904|\n",
      "|[3.0,0.0,1245.180...|1245.18|1245.1800537109375|\n",
      "|[4.0,0.0,1608.560...|1608.56|1608.5600585937502|\n",
      "|[3.0,3.0,1633.239...|1633.24|1633.2399902343757|\n",
      "|[3.0,3.0,1679.760...|1679.76|1679.7600097656257|\n",
      "+--------------------+-------+------------------+\n",
      "only showing top 5 rows\n",
      "\n",
      "Root Mean Squared Error (RMSE) on test data: 3.077358967442749e-13\n"
     ]
    }
   ],
   "source": [
    "\n",
    "# Convert categorical columns to numerical indices\n",
    "city_indexer = StringIndexer(inputCol=\"City\", outputCol=\"CityIndex\")\n",
    "payment_indexer = StringIndexer(inputCol=\"Payment\", outputCol=\"PaymentIndex\")\n",
    "\n",
    "# Assemble features into a single vector\n",
    "feature_assembler = VectorAssembler(\n",
    "    inputCols=[\"CityIndex\", \"PaymentIndex\", \"Total\"],\n",
    "    outputCol=\"features\"\n",
    ")\n",
    "\n",
    "# Define the Linear Regression model\n",
    "lr = LinearRegression(featuresCol=\"features\", labelCol=\"Total\")\n",
    "\n",
    "# Build a pipeline to streamline the transformation and model training process\n",
    "pipeline = Pipeline(stages=[city_indexer, payment_indexer, feature_assembler, lr])\n",
    "\n",
    "# Split data into training and test sets\n",
    "train_data, test_data = purchaseDataframe.randomSplit([0.8, 0.2])\n",
    "\n",
    "# Fit the pipeline to the training data\n",
    "lr_model = pipeline.fit(train_data)\n",
    "\n",
    "# Make predictions on the test data\n",
    "predictions = lr_model.transform(test_data)\n",
    "\n",
    "# Show predictions\n",
    "predictions.select(\"features\", \"Total\", \"prediction\").show(5)\n",
    "\n",
    "# Evaluate model performance using Root Mean Squared Error (RMSE)\n",
    "from pyspark.ml.evaluation import RegressionEvaluator\n",
    "evaluator = RegressionEvaluator(labelCol=\"Total\", predictionCol=\"prediction\", metricName=\"rmse\")\n",
    "rmse = evaluator.evaluate(predictions)\n",
    "print(\"Root Mean Squared Error (RMSE) on test data:\", rmse)"
   ]
  },
  {
   "cell_type": "markdown",
   "metadata": {},
   "source": [
    "The output Root Mean Squared Error (RMSE) on test data: 3.077358967442749e-13 indicates that the model's predictions are extremely close to the actual values, with an average error of approximately \n",
    "3.08\n",
    "×\n",
    "1\n",
    "0\n",
    "−\n",
    "13\n",
    "3.08×10 \n",
    "−13\n",
    " . This is essentially negligible and suggests that the model has achieved near-perfect accuracy on the test dataset."
   ]
  },
  {
   "cell_type": "markdown",
   "metadata": {},
   "source": [
    "The features in the output are numerical representations of the original categorical columns in the dataset. These numbers are generated by StringIndexer and VectorAssembler in the pipeline. Here's how it works:\n",
    "\n",
    "CityIndex: The StringIndexer converts the City column (which is categorical) into numeric values. For example, each unique city gets a corresponding index (e.g., \"City 1\" could become 1.0, \"City 2\" could become 2.0).\n",
    "\n",
    "PaymentIndex: Similarly, StringIndexer converts the Payment column (which is also categorical) into numeric values (e.g., \"Cash\" could become 0.0, \"Card\" could become 1.0).\n",
    "\n",
    "Total: This is the actual Total amount, which is already numeric (e.g., 477.59, 1245.18).\n",
    "\n",
    "The VectorAssembler combines these individual numeric features into a single vector (e.g., [1.0, 2.0, 477.5899]), which is the input for the linear regression model.\n",
    "\n",
    "So, the columns in the \"features\" are:\n",
    "\n",
    "CityIndex (converted from \"City\")\n",
    "PaymentIndex (converted from \"Payment\")\n",
    "Total (original numeric value for \"Total\")"
   ]
  },
  {
   "cell_type": "code",
   "execution_count": 16,
   "metadata": {},
   "outputs": [
    {
     "name": "stdout",
     "output_type": "stream",
     "text": [
      "Requirement already satisfied: pillow in c:\\users\\vboxuser\\appdata\\local\\programs\\python\\python39\\lib\\site-packages (11.0.0)\n",
      "Note: you may need to restart the kernel to use updated packages.\n"
     ]
    },
    {
     "name": "stderr",
     "output_type": "stream",
     "text": [
      "WARNING: You are using pip version 20.2.3; however, version 24.3.1 is available.\n",
      "You should consider upgrading via the 'c:\\users\\vboxuser\\appdata\\local\\programs\\python\\python39\\python.exe -m pip install --upgrade pip' command.\n"
     ]
    }
   ],
   "source": [
    "pip install pillow"
   ]
  },
  {
   "cell_type": "code",
   "execution_count": 17,
   "metadata": {},
   "outputs": [
    {
     "name": "stdout",
     "output_type": "stream",
     "text": [
      "Requirement already satisfied: matplotlib in c:\\users\\vboxuser\\appdata\\local\\programs\\python\\python39\\lib\\site-packages (3.9.2)Note: you may need to restart the kernel to use updated packages.\n",
      "\n",
      "Requirement already satisfied: python-dateutil>=2.7 in c:\\users\\vboxuser\\appdata\\local\\programs\\python\\python39\\lib\\site-packages (from matplotlib) (2.9.0.post0)\n",
      "Requirement already satisfied: fonttools>=4.22.0 in c:\\users\\vboxuser\\appdata\\local\\programs\\python\\python39\\lib\\site-packages (from matplotlib) (4.54.1)\n",
      "Requirement already satisfied: pillow>=8 in c:\\users\\vboxuser\\appdata\\local\\programs\\python\\python39\\lib\\site-packages (from matplotlib) (11.0.0)\n",
      "Requirement already satisfied: importlib-resources>=3.2.0; python_version < \"3.10\" in c:\\users\\vboxuser\\appdata\\local\\programs\\python\\python39\\lib\\site-packages (from matplotlib) (6.4.5)\n",
      "Requirement already satisfied: numpy>=1.23 in c:\\users\\vboxuser\\appdata\\local\\programs\\python\\python39\\lib\\site-packages (from matplotlib) (2.0.2)\n",
      "Requirement already satisfied: packaging>=20.0 in c:\\users\\vboxuser\\appdata\\local\\programs\\python\\python39\\lib\\site-packages (from matplotlib) (24.2)\n",
      "Requirement already satisfied: contourpy>=1.0.1 in c:\\users\\vboxuser\\appdata\\local\\programs\\python\\python39\\lib\\site-packages (from matplotlib) (1.3.0)\n",
      "Requirement already satisfied: pyparsing>=2.3.1 in c:\\users\\vboxuser\\appdata\\local\\programs\\python\\python39\\lib\\site-packages (from matplotlib) (3.2.0)\n",
      "Requirement already satisfied: cycler>=0.10 in c:\\users\\vboxuser\\appdata\\local\\programs\\python\\python39\\lib\\site-packages (from matplotlib) (0.12.1)\n",
      "Requirement already satisfied: kiwisolver>=1.3.1 in c:\\users\\vboxuser\\appdata\\local\\programs\\python\\python39\\lib\\site-packages (from matplotlib) (1.4.7)\n",
      "Requirement already satisfied: six>=1.5 in c:\\users\\vboxuser\\appdata\\local\\programs\\python\\python39\\lib\\site-packages (from python-dateutil>=2.7->matplotlib) (1.16.0)\n",
      "Requirement already satisfied: zipp>=3.1.0; python_version < \"3.10\" in c:\\users\\vboxuser\\appdata\\local\\programs\\python\\python39\\lib\\site-packages (from importlib-resources>=3.2.0; python_version < \"3.10\"->matplotlib) (3.20.2)\n"
     ]
    },
    {
     "name": "stderr",
     "output_type": "stream",
     "text": [
      "WARNING: You are using pip version 20.2.3; however, version 24.3.1 is available.\n",
      "You should consider upgrading via the 'c:\\users\\vboxuser\\appdata\\local\\programs\\python\\python39\\python.exe -m pip install --upgrade pip' command.\n"
     ]
    }
   ],
   "source": [
    "pip install matplotlib"
   ]
  },
  {
   "cell_type": "code",
   "execution_count": 18,
   "metadata": {},
   "outputs": [
    {
     "name": "stdout",
     "output_type": "stream",
     "text": [
      "Requirement already satisfied: seaborn in c:\\users\\vboxuser\\appdata\\local\\programs\\python\\python39\\lib\\site-packages (0.13.2)Note: you may need to restart the kernel to use updated packages.\n",
      "\n",
      "Requirement already satisfied: numpy!=1.24.0,>=1.20 in c:\\users\\vboxuser\\appdata\\local\\programs\\python\\python39\\lib\\site-packages (from seaborn) (2.0.2)\n",
      "Requirement already satisfied: matplotlib!=3.6.1,>=3.4 in c:\\users\\vboxuser\\appdata\\local\\programs\\python\\python39\\lib\\site-packages (from seaborn) (3.9.2)\n",
      "Requirement already satisfied: pandas>=1.2 in c:\\users\\vboxuser\\appdata\\local\\programs\\python\\python39\\lib\\site-packages (from seaborn) (2.2.3)\n",
      "Requirement already satisfied: python-dateutil>=2.7 in c:\\users\\vboxuser\\appdata\\local\\programs\\python\\python39\\lib\\site-packages (from matplotlib!=3.6.1,>=3.4->seaborn) (2.9.0.post0)\n",
      "Requirement already satisfied: fonttools>=4.22.0 in c:\\users\\vboxuser\\appdata\\local\\programs\\python\\python39\\lib\\site-packages (from matplotlib!=3.6.1,>=3.4->seaborn) (4.54.1)\n",
      "Requirement already satisfied: pillow>=8 in c:\\users\\vboxuser\\appdata\\local\\programs\\python\\python39\\lib\\site-packages (from matplotlib!=3.6.1,>=3.4->seaborn) (11.0.0)\n",
      "Requirement already satisfied: importlib-resources>=3.2.0; python_version < \"3.10\" in c:\\users\\vboxuser\\appdata\\local\\programs\\python\\python39\\lib\\site-packages (from matplotlib!=3.6.1,>=3.4->seaborn) (6.4.5)\n",
      "Requirement already satisfied: packaging>=20.0 in c:\\users\\vboxuser\\appdata\\local\\programs\\python\\python39\\lib\\site-packages (from matplotlib!=3.6.1,>=3.4->seaborn) (24.2)\n",
      "Requirement already satisfied: contourpy>=1.0.1 in c:\\users\\vboxuser\\appdata\\local\\programs\\python\\python39\\lib\\site-packages (from matplotlib!=3.6.1,>=3.4->seaborn) (1.3.0)\n",
      "Requirement already satisfied: pyparsing>=2.3.1 in c:\\users\\vboxuser\\appdata\\local\\programs\\python\\python39\\lib\\site-packages (from matplotlib!=3.6.1,>=3.4->seaborn) (3.2.0)\n",
      "Requirement already satisfied: cycler>=0.10 in c:\\users\\vboxuser\\appdata\\local\\programs\\python\\python39\\lib\\site-packages (from matplotlib!=3.6.1,>=3.4->seaborn) (0.12.1)\n",
      "Requirement already satisfied: kiwisolver>=1.3.1 in c:\\users\\vboxuser\\appdata\\local\\programs\\python\\python39\\lib\\site-packages (from matplotlib!=3.6.1,>=3.4->seaborn) (1.4.7)\n",
      "Requirement already satisfied: tzdata>=2022.7 in c:\\users\\vboxuser\\appdata\\local\\programs\\python\\python39\\lib\\site-packages (from pandas>=1.2->seaborn) (2024.2)\n",
      "Requirement already satisfied: pytz>=2020.1 in c:\\users\\vboxuser\\appdata\\local\\programs\\python\\python39\\lib\\site-packages (from pandas>=1.2->seaborn) (2024.2)\n",
      "Requirement already satisfied: six>=1.5 in c:\\users\\vboxuser\\appdata\\local\\programs\\python\\python39\\lib\\site-packages (from python-dateutil>=2.7->matplotlib!=3.6.1,>=3.4->seaborn) (1.16.0)\n",
      "Requirement already satisfied: zipp>=3.1.0; python_version < \"3.10\" in c:\\users\\vboxuser\\appdata\\local\\programs\\python\\python39\\lib\\site-packages (from importlib-resources>=3.2.0; python_version < \"3.10\"->matplotlib!=3.6.1,>=3.4->seaborn) (3.20.2)\n"
     ]
    },
    {
     "name": "stderr",
     "output_type": "stream",
     "text": [
      "WARNING: You are using pip version 20.2.3; however, version 24.3.1 is available.\n",
      "You should consider upgrading via the 'c:\\users\\vboxuser\\appdata\\local\\programs\\python\\python39\\python.exe -m pip install --upgrade pip' command.\n"
     ]
    }
   ],
   "source": [
    "pip install seaborn"
   ]
  },
  {
   "cell_type": "code",
   "execution_count": 19,
   "metadata": {},
   "outputs": [],
   "source": [
    "import matplotlib.pyplot as plt\n",
    "import seaborn as sns\n",
    "\n",
    "# Convert Spark DataFrame to Pandas DataFrame for visualization\n",
    "pandas_df = purchaseDataframe.toPandas()"
   ]
  },
  {
   "cell_type": "code",
   "execution_count": 20,
   "metadata": {},
   "outputs": [
    {
     "name": "stderr",
     "output_type": "stream",
     "text": [
      "C:\\Users\\vboxuser\\AppData\\Local\\Temp\\ipykernel_6408\\2932125018.py:4: FutureWarning: \n",
      "\n",
      "Passing `palette` without assigning `hue` is deprecated and will be removed in v0.14.0. Assign the `x` variable to `hue` and set `legend=False` for the same effect.\n",
      "\n",
      "  sns.barplot(x='City', y='Total', data=city_sales, palette='viridis')\n"
     ]
    },
    {
     "data": {
      "image/png": "[encoded data removed]",
      "text/plain": [
       "<Figure size 1000x600 with 1 Axes>"
      ]
     },
     "metadata": {},
     "output_type": "display_data"
    }
   ],
   "source": [
    "# 1. Bar plot of Total sales by City\n",
    "city_sales = pandas_df.groupby('City')['Total'].sum().reset_index()  # Group by City and sum Total\n",
    "plt.figure(figsize=(10, 6))\n",
    "sns.barplot(x='City', y='Total', data=city_sales, palette='viridis')\n",
    "plt.title('Total Sales by City')\n",
    "plt.xlabel('City')\n",
    "plt.ylabel('Total Sales')\n",
    "plt.xticks(rotation=45)\n",
    "plt.tight_layout()\n",
    "plt.show()"
   ]
  }
 ],
 "metadata": {
  "kernelspec": {
   "display_name": "Python 3 (ipykernel)",
   "language": "python",
   "name": "python3"
  },
  "language_info": {
   "codemirror_mode": {
    "name": "ipython",
    "version": 3
   },
   "file_extension": ".py",
   "mimetype": "text/x-python",
   "name": "python",
   "nbconvert_exporter": "python",
   "pygments_lexer": "ipython3",
   "version": "3.9.0"
  }
 },
 "nbformat": 4,
 "nbformat_minor": 4
}
